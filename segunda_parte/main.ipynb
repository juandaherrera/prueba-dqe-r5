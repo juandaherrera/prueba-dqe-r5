{
 "cells": [
  {
   "cell_type": "code",
   "execution_count": 1,
   "metadata": {},
   "outputs": [],
   "source": [
    "%load_ext autoreload\n",
    "%autoreload 2"
   ]
  },
  {
   "cell_type": "markdown",
   "metadata": {},
   "source": [
    "# Análisis de Calidad de Datos"
   ]
  },
  {
   "cell_type": "code",
   "execution_count": 2,
   "metadata": {},
   "outputs": [],
   "source": [
    "import os\n",
    "import pandas as pd\n",
    "from utils import pandas_api_ext\n",
    "from utils import data_quality as dq\n",
    "import missingno as msno\n",
    "import datetime"
   ]
  },
  {
   "cell_type": "markdown",
   "metadata": {},
   "source": [
    "## Entendiendo los datos"
   ]
  },
  {
   "cell_type": "markdown",
   "metadata": {},
   "source": [
    "Carga de datos"
   ]
  },
  {
   "cell_type": "code",
   "execution_count": 3,
   "metadata": {},
   "outputs": [],
   "source": [
    "CSV_PATH = os.path.join('..', 'primera_parte', 'data', 'processed', 'output.csv')\n",
    "df = pd.read_csv(CSV_PATH)"
   ]
  },
  {
   "cell_type": "markdown",
   "metadata": {},
   "source": [
    "Tamaño del dataframe"
   ]
  },
  {
   "cell_type": "code",
   "execution_count": 4,
   "metadata": {},
   "outputs": [
    {
     "name": "stdout",
     "output_type": "stream",
     "text": [
      "filas: 539 columnas: 27\n"
     ]
    }
   ],
   "source": [
    "print(\n",
    "    'filas:', df.shape[0], \n",
    "    'columnas:', df.shape[1]\n",
    ")"
   ]
  },
  {
   "cell_type": "markdown",
   "metadata": {},
   "source": [
    "Columnas"
   ]
  },
  {
   "cell_type": "code",
   "execution_count": 5,
   "metadata": {},
   "outputs": [
    {
     "data": {
      "text/plain": [
       "Index(['disc_number', 'duration_ms', 'explicit', 'track_number',\n",
       "       'track_popularity', 'track_id', 'track_name',\n",
       "       'audio_features.danceability', 'audio_features.energy',\n",
       "       'audio_features.key', 'audio_features.loudness', 'audio_features.mode',\n",
       "       'audio_features.speechiness', 'audio_features.acousticness',\n",
       "       'audio_features.instrumentalness', 'audio_features.liveness',\n",
       "       'audio_features.valence', 'audio_features.tempo', 'audio_features.id',\n",
       "       'audio_features.time_signature', 'artist_id', 'artist_name',\n",
       "       'artist_popularity', 'album_id', 'album_name', 'album_release_date',\n",
       "       'album_total_tracks'],\n",
       "      dtype='object')"
      ]
     },
     "execution_count": 5,
     "metadata": {},
     "output_type": "execute_result"
    }
   ],
   "source": [
    "df.columns"
   ]
  },
  {
   "cell_type": "code",
   "execution_count": 6,
   "metadata": {},
   "outputs": [
    {
     "data": {
      "text/html": [
       "<div>\n",
       "<style scoped>\n",
       "    .dataframe tbody tr th:only-of-type {\n",
       "        vertical-align: middle;\n",
       "    }\n",
       "\n",
       "    .dataframe tbody tr th {\n",
       "        vertical-align: top;\n",
       "    }\n",
       "\n",
       "    .dataframe thead th {\n",
       "        text-align: right;\n",
       "    }\n",
       "</style>\n",
       "<table border=\"1\" class=\"dataframe\">\n",
       "  <thead>\n",
       "    <tr style=\"text-align: right;\">\n",
       "      <th></th>\n",
       "      <th>disc_number</th>\n",
       "      <th>duration_ms</th>\n",
       "      <th>explicit</th>\n",
       "      <th>track_number</th>\n",
       "      <th>track_popularity</th>\n",
       "      <th>track_id</th>\n",
       "      <th>track_name</th>\n",
       "      <th>audio_features.danceability</th>\n",
       "      <th>audio_features.energy</th>\n",
       "      <th>audio_features.key</th>\n",
       "      <th>...</th>\n",
       "      <th>audio_features.tempo</th>\n",
       "      <th>audio_features.id</th>\n",
       "      <th>audio_features.time_signature</th>\n",
       "      <th>artist_id</th>\n",
       "      <th>artist_name</th>\n",
       "      <th>artist_popularity</th>\n",
       "      <th>album_id</th>\n",
       "      <th>album_name</th>\n",
       "      <th>album_release_date</th>\n",
       "      <th>album_total_tracks</th>\n",
       "    </tr>\n",
       "  </thead>\n",
       "  <tbody>\n",
       "    <tr>\n",
       "      <th>0</th>\n",
       "      <td>1</td>\n",
       "      <td>212600</td>\n",
       "      <td>False</td>\n",
       "      <td>1</td>\n",
       "      <td>77</td>\n",
       "      <td>4WUepByoeqcedHoYhSNHRt</td>\n",
       "      <td>Welcome To New York (Taylor's Version)</td>\n",
       "      <td>0.757</td>\n",
       "      <td>0.610</td>\n",
       "      <td>7.0</td>\n",
       "      <td>...</td>\n",
       "      <td>116.998</td>\n",
       "      <td>4WUepByoeqcedHoYhSNHRt</td>\n",
       "      <td>4.0</td>\n",
       "      <td>06HL4z0CvFAxyc27GX</td>\n",
       "      <td>Taylor Swift</td>\n",
       "      <td>120</td>\n",
       "      <td>1o59UpKw81iHR0HPiSkJR0</td>\n",
       "      <td>1989 (Taylor's Version) [Deluxe]</td>\n",
       "      <td>2023-10-27</td>\n",
       "      <td>22</td>\n",
       "    </tr>\n",
       "    <tr>\n",
       "      <th>1</th>\n",
       "      <td>1</td>\n",
       "      <td>231833</td>\n",
       "      <td>False</td>\n",
       "      <td>2</td>\n",
       "      <td>78</td>\n",
       "      <td>0108kcWLnn2HlH2kedi1gn</td>\n",
       "      <td>Blank Space (Taylor's Version)</td>\n",
       "      <td>0.733</td>\n",
       "      <td>0.733</td>\n",
       "      <td>0.0</td>\n",
       "      <td>...</td>\n",
       "      <td>96.057</td>\n",
       "      <td>0108kcWLnn2HlH2kedi1gn</td>\n",
       "      <td>4.0</td>\n",
       "      <td>06HL4z0CvFAxyc27GX</td>\n",
       "      <td>Taylor Swift</td>\n",
       "      <td>120</td>\n",
       "      <td>1o59UpKw81iHR0HPiSkJR0</td>\n",
       "      <td>1989 (Taylor's Version) [Deluxe]</td>\n",
       "      <td>2023-10-27</td>\n",
       "      <td>22</td>\n",
       "    </tr>\n",
       "    <tr>\n",
       "      <th>2</th>\n",
       "      <td>1</td>\n",
       "      <td>231000</td>\n",
       "      <td>False</td>\n",
       "      <td>3</td>\n",
       "      <td>79</td>\n",
       "      <td>3Vpk1hfMAQme8VJ0SNRSkd</td>\n",
       "      <td>Style (Taylor's Version)</td>\n",
       "      <td>0.511</td>\n",
       "      <td>0.822</td>\n",
       "      <td>11.0</td>\n",
       "      <td>...</td>\n",
       "      <td>94.868</td>\n",
       "      <td>3Vpk1hfMAQme8VJ0SNRSkd</td>\n",
       "      <td>4.0</td>\n",
       "      <td>06HL4z0CvFAxyc27GX</td>\n",
       "      <td>Taylor Swift</td>\n",
       "      <td>120</td>\n",
       "      <td>1o59UpKw81iHR0HPiSkJR0</td>\n",
       "      <td>1989 (Taylor's Version) [Deluxe]</td>\n",
       "      <td>2023-10-27</td>\n",
       "      <td>22</td>\n",
       "    </tr>\n",
       "  </tbody>\n",
       "</table>\n",
       "<p>3 rows × 27 columns</p>\n",
       "</div>"
      ],
      "text/plain": [
       "   disc_number  duration_ms explicit  track_number  track_popularity  \\\n",
       "0            1       212600    False             1                77   \n",
       "1            1       231833    False             2                78   \n",
       "2            1       231000    False             3                79   \n",
       "\n",
       "                 track_id                              track_name  \\\n",
       "0  4WUepByoeqcedHoYhSNHRt  Welcome To New York (Taylor's Version)   \n",
       "1  0108kcWLnn2HlH2kedi1gn          Blank Space (Taylor's Version)   \n",
       "2  3Vpk1hfMAQme8VJ0SNRSkd                Style (Taylor's Version)   \n",
       "\n",
       "   audio_features.danceability  audio_features.energy  audio_features.key  \\\n",
       "0                        0.757                  0.610                 7.0   \n",
       "1                        0.733                  0.733                 0.0   \n",
       "2                        0.511                  0.822                11.0   \n",
       "\n",
       "   ...  audio_features.tempo       audio_features.id  \\\n",
       "0  ...               116.998  4WUepByoeqcedHoYhSNHRt   \n",
       "1  ...                96.057  0108kcWLnn2HlH2kedi1gn   \n",
       "2  ...                94.868  3Vpk1hfMAQme8VJ0SNRSkd   \n",
       "\n",
       "   audio_features.time_signature           artist_id   artist_name  \\\n",
       "0                            4.0  06HL4z0CvFAxyc27GX  Taylor Swift   \n",
       "1                            4.0  06HL4z0CvFAxyc27GX  Taylor Swift   \n",
       "2                            4.0  06HL4z0CvFAxyc27GX  Taylor Swift   \n",
       "\n",
       "   artist_popularity                album_id  \\\n",
       "0                120  1o59UpKw81iHR0HPiSkJR0   \n",
       "1                120  1o59UpKw81iHR0HPiSkJR0   \n",
       "2                120  1o59UpKw81iHR0HPiSkJR0   \n",
       "\n",
       "                         album_name album_release_date  album_total_tracks  \n",
       "0  1989 (Taylor's Version) [Deluxe]         2023-10-27                  22  \n",
       "1  1989 (Taylor's Version) [Deluxe]         2023-10-27                  22  \n",
       "2  1989 (Taylor's Version) [Deluxe]         2023-10-27                  22  \n",
       "\n",
       "[3 rows x 27 columns]"
      ]
     },
     "execution_count": 6,
     "metadata": {},
     "output_type": "execute_result"
    }
   ],
   "source": [
    "df.head(3)"
   ]
  },
  {
   "cell_type": "markdown",
   "metadata": {},
   "source": [
    "## Completitud"
   ]
  },
  {
   "cell_type": "markdown",
   "metadata": {},
   "source": [
    "Columnas con valores faltantes"
   ]
  },
  {
   "cell_type": "code",
   "execution_count": 7,
   "metadata": {},
   "outputs": [
    {
     "data": {
      "text/html": [
       "<div>\n",
       "<style scoped>\n",
       "    .dataframe tbody tr th:only-of-type {\n",
       "        vertical-align: middle;\n",
       "    }\n",
       "\n",
       "    .dataframe tbody tr th {\n",
       "        vertical-align: top;\n",
       "    }\n",
       "\n",
       "    .dataframe thead th {\n",
       "        text-align: right;\n",
       "    }\n",
       "</style>\n",
       "<table border=\"1\" class=\"dataframe\">\n",
       "  <thead>\n",
       "    <tr style=\"text-align: right;\">\n",
       "      <th></th>\n",
       "      <th>variable</th>\n",
       "      <th>n_missing</th>\n",
       "      <th>n_cases</th>\n",
       "      <th>pct_missing</th>\n",
       "    </tr>\n",
       "  </thead>\n",
       "  <tbody>\n",
       "    <tr>\n",
       "      <th>0</th>\n",
       "      <td>album_name</td>\n",
       "      <td>62</td>\n",
       "      <td>539</td>\n",
       "      <td>11.502783</td>\n",
       "    </tr>\n",
       "    <tr>\n",
       "      <th>1</th>\n",
       "      <td>track_id</td>\n",
       "      <td>8</td>\n",
       "      <td>539</td>\n",
       "      <td>1.484230</td>\n",
       "    </tr>\n",
       "    <tr>\n",
       "      <th>2</th>\n",
       "      <td>track_name</td>\n",
       "      <td>7</td>\n",
       "      <td>539</td>\n",
       "      <td>1.298701</td>\n",
       "    </tr>\n",
       "    <tr>\n",
       "      <th>3</th>\n",
       "      <td>audio_features.loudness</td>\n",
       "      <td>2</td>\n",
       "      <td>539</td>\n",
       "      <td>0.371058</td>\n",
       "    </tr>\n",
       "    <tr>\n",
       "      <th>4</th>\n",
       "      <td>audio_features.danceability</td>\n",
       "      <td>2</td>\n",
       "      <td>539</td>\n",
       "      <td>0.371058</td>\n",
       "    </tr>\n",
       "    <tr>\n",
       "      <th>5</th>\n",
       "      <td>audio_features.energy</td>\n",
       "      <td>2</td>\n",
       "      <td>539</td>\n",
       "      <td>0.371058</td>\n",
       "    </tr>\n",
       "    <tr>\n",
       "      <th>6</th>\n",
       "      <td>audio_features.acousticness</td>\n",
       "      <td>1</td>\n",
       "      <td>539</td>\n",
       "      <td>0.185529</td>\n",
       "    </tr>\n",
       "    <tr>\n",
       "      <th>7</th>\n",
       "      <td>audio_features.time_signature</td>\n",
       "      <td>1</td>\n",
       "      <td>539</td>\n",
       "      <td>0.185529</td>\n",
       "    </tr>\n",
       "    <tr>\n",
       "      <th>8</th>\n",
       "      <td>audio_features.liveness</td>\n",
       "      <td>1</td>\n",
       "      <td>539</td>\n",
       "      <td>0.185529</td>\n",
       "    </tr>\n",
       "    <tr>\n",
       "      <th>9</th>\n",
       "      <td>audio_features.speechiness</td>\n",
       "      <td>1</td>\n",
       "      <td>539</td>\n",
       "      <td>0.185529</td>\n",
       "    </tr>\n",
       "    <tr>\n",
       "      <th>10</th>\n",
       "      <td>audio_features.key</td>\n",
       "      <td>1</td>\n",
       "      <td>539</td>\n",
       "      <td>0.185529</td>\n",
       "    </tr>\n",
       "    <tr>\n",
       "      <th>11</th>\n",
       "      <td>audio_features.tempo</td>\n",
       "      <td>1</td>\n",
       "      <td>539</td>\n",
       "      <td>0.185529</td>\n",
       "    </tr>\n",
       "  </tbody>\n",
       "</table>\n",
       "</div>"
      ],
      "text/plain": [
       "                         variable  n_missing  n_cases  pct_missing\n",
       "0                      album_name         62      539    11.502783\n",
       "1                        track_id          8      539     1.484230\n",
       "2                      track_name          7      539     1.298701\n",
       "3         audio_features.loudness          2      539     0.371058\n",
       "4     audio_features.danceability          2      539     0.371058\n",
       "5           audio_features.energy          2      539     0.371058\n",
       "6     audio_features.acousticness          1      539     0.185529\n",
       "7   audio_features.time_signature          1      539     0.185529\n",
       "8         audio_features.liveness          1      539     0.185529\n",
       "9      audio_features.speechiness          1      539     0.185529\n",
       "10             audio_features.key          1      539     0.185529\n",
       "11           audio_features.tempo          1      539     0.185529"
      ]
     },
     "execution_count": 7,
     "metadata": {},
     "output_type": "execute_result"
    }
   ],
   "source": [
    "missing_df = (\n",
    "    df\n",
    "    .missing\n",
    "    .missing_variable_summary()\n",
    "    .sort_values(by='n_missing', ascending=False)\n",
    "    .reset_index(drop=True)\n",
    ")\n",
    "\n",
    "missing_df = missing_df[missing_df['n_missing']>0]\n",
    "missing_df"
   ]
  },
  {
   "cell_type": "markdown",
   "metadata": {},
   "source": [
    "% de completitud del dataset"
   ]
  },
  {
   "cell_type": "code",
   "execution_count": 8,
   "metadata": {},
   "outputs": [
    {
     "name": "stdout",
     "output_type": "stream",
     "text": [
      "Completitud: 99.39%\n"
     ]
    }
   ],
   "source": [
    "completeness = (df.missing.number_complete() / df.size)\n",
    "print(f'Completitud: {completeness * 100:.2f}%')"
   ]
  },
  {
   "cell_type": "markdown",
   "metadata": {},
   "source": [
    "Visual gráfica de las columnas con datos faltantes"
   ]
  },
  {
   "cell_type": "code",
   "execution_count": 9,
   "metadata": {},
   "outputs": [
    {
     "data": {
      "image/png": "[encoded data removed]",
      "text/plain": [
       "<Figure size 1000x810 with 1 Axes>"
      ]
     },
     "metadata": {},
     "output_type": "display_data"
    }
   ],
   "source": [
    "df.missing.missing_variable_plot()"
   ]
  },
  {
   "cell_type": "markdown",
   "metadata": {},
   "source": [
    "Matriz de datos faltantes"
   ]
  },
  {
   "cell_type": "code",
   "execution_count": 10,
   "metadata": {},
   "outputs": [
    {
     "data": {
      "text/plain": [
       "<Axes: >"
      ]
     },
     "execution_count": 10,
     "metadata": {},
     "output_type": "execute_result"
    },
    {
     "data": {
      "image/png": "[encoded data removed]",
      "text/plain": [
       "<Figure size 2500x1000 with 2 Axes>"
      ]
     },
     "metadata": {},
     "output_type": "display_data"
    }
   ],
   "source": [
    "msno.matrix(df=df)"
   ]
  },
  {
   "cell_type": "markdown",
   "metadata": {},
   "source": [
    "### Deepdive - Columnas con más valores faltantes"
   ]
  },
  {
   "cell_type": "markdown",
   "metadata": {},
   "source": [
    "La columna que más valores falantes presenta es la de 'album_name'. Entraremos a analizar a qué puede deberse. Inicialmente algo curioso que se identificó es que la columna de 'album_id' *no* tiene datos faltantes, por lo que entraremos a revisar esos casos"
   ]
  },
  {
   "cell_type": "code",
   "execution_count": 11,
   "metadata": {},
   "outputs": [
    {
     "data": {
      "text/plain": [
       "['1MPAXuTVL2Ej5x0JHiSPq8', '6fyR4wBPwLHKcRtxgd4sGh']"
      ]
     },
     "execution_count": 11,
     "metadata": {},
     "output_type": "execute_result"
    }
   ],
   "source": [
    "missing_albums_ids = df[df['album_name'].isna()]['album_id'].unique().tolist()\n",
    "missing_albums_ids"
   ]
  },
  {
   "cell_type": "markdown",
   "metadata": {},
   "source": [
    "Son solo dos albumes a los que les faltan valores. De estos el primero se lleva el 74% de los valores faltantes y el segundo se lleva el 26% restante"
   ]
  },
  {
   "cell_type": "code",
   "execution_count": 12,
   "metadata": {},
   "outputs": [
    {
     "data": {
      "text/plain": [
       "1MPAXuTVL2Ej5x0JHiSPq8    46\n",
       "6fyR4wBPwLHKcRtxgd4sGh    16\n",
       "dtype: int64"
      ]
     },
     "execution_count": 12,
     "metadata": {},
     "output_type": "execute_result"
    }
   ],
   "source": [
    "missing_album_counts = pd.Series(index=missing_albums_ids, data=0) \n",
    "missing_album_counts.update(df['album_id'].value_counts())\n",
    "missing_album_counts"
   ]
  },
  {
   "cell_type": "markdown",
   "metadata": {},
   "source": [
    "También se valida que no exista este album_id en otro registro que sí contenga un valor en album_name y no se encontraron resultados"
   ]
  },
  {
   "cell_type": "code",
   "execution_count": 13,
   "metadata": {},
   "outputs": [
    {
     "data": {
      "text/plain": [
       "array([nan], dtype=object)"
      ]
     },
     "execution_count": 13,
     "metadata": {},
     "output_type": "execute_result"
    }
   ],
   "source": [
    "df[df['album_id'].isin(missing_albums_ids)]['album_name'].unique()"
   ]
  },
  {
   "cell_type": "markdown",
   "metadata": {},
   "source": [
    "Revisando la documentación de la [API de Spotify](https://developer.spotify.com/documentation/web-api/reference/get-an-album) en la sección de 'Albums' se encuentra lo siguiente:\n",
    "\n",
    "> The name of the album. In case of an album takedown, the value may be an empty string.\n",
    "\n",
    "Por lo que podría tratarse de dos albumes que hayan sido borrados.\n",
    "\n",
    "En cuanto al resto de casos con valores faltantes, estos pueden deberse a fallas durante las respuestas de la API o simplemente a data faltante como el caso anterior. Sin embargo no representan un porcentaje singficativo sobre el total de la data. Por tanto y asumiendo que el porcentaje de completitud del dataframe va acorde a los lineamientos de la compañía, podemos dar por concluida esta sección afirmando que el dataframe cumple con ella."
   ]
  },
  {
   "cell_type": "markdown",
   "metadata": {},
   "source": [
    "## Unicidad"
   ]
  },
  {
   "cell_type": "markdown",
   "metadata": {},
   "source": [
    "En esta sección vamos a revisar:\n",
    "- Que no existan filas repetidas.\n",
    "- Que no existan track_ids (nuestro nivel de granularidad más bajo) repetidos.\n",
    "- Que no existan llaves primarias (ej: artist_id, album_id) que referencien datos diferentes.\n",
    "- % de unicidad"
   ]
  },
  {
   "cell_type": "markdown",
   "metadata": {},
   "source": [
    "### Filas repetidas\n",
    "En todo el dataframe hay 36 filas repetidas"
   ]
  },
  {
   "cell_type": "code",
   "execution_count": 14,
   "metadata": {},
   "outputs": [
    {
     "data": {
      "text/plain": [
       "36"
      ]
     },
     "execution_count": 14,
     "metadata": {},
     "output_type": "execute_result"
    }
   ],
   "source": [
    "len(df[df.duplicated(keep=False)])"
   ]
  },
  {
   "cell_type": "code",
   "execution_count": 79,
   "metadata": {},
   "outputs": [
    {
     "data": {
      "text/html": [
       "<div>\n",
       "<style scoped>\n",
       "    .dataframe tbody tr th:only-of-type {\n",
       "        vertical-align: middle;\n",
       "    }\n",
       "\n",
       "    .dataframe tbody tr th {\n",
       "        vertical-align: top;\n",
       "    }\n",
       "\n",
       "    .dataframe thead th {\n",
       "        text-align: right;\n",
       "    }\n",
       "</style>\n",
       "<table border=\"1\" class=\"dataframe\">\n",
       "  <thead>\n",
       "    <tr style=\"text-align: right;\">\n",
       "      <th></th>\n",
       "      <th>track_id</th>\n",
       "      <th>track_name</th>\n",
       "      <th>album_id</th>\n",
       "      <th>album_name</th>\n",
       "      <th>audio_features.id</th>\n",
       "    </tr>\n",
       "  </thead>\n",
       "  <tbody>\n",
       "    <tr>\n",
       "      <th>303</th>\n",
       "      <td>12M5uqx0ZuwkpLp5rJim1a</td>\n",
       "      <td>Cornelia Street</td>\n",
       "      <td>1NAmidJlEaVgA3MpcPFYGq</td>\n",
       "      <td>Lover</td>\n",
       "      <td>12M5uqx0ZuwkpLp5rJim1a</td>\n",
       "    </tr>\n",
       "    <tr>\n",
       "      <th>285</th>\n",
       "      <td>12M5uqx0ZuwkpLp5rJim1a</td>\n",
       "      <td>Cornelia Street</td>\n",
       "      <td>1NAmidJlEaVgA3MpcPFYGq</td>\n",
       "      <td>Lover</td>\n",
       "      <td>12M5uqx0ZuwkpLp5rJim1a</td>\n",
       "    </tr>\n",
       "    <tr>\n",
       "      <th>305</th>\n",
       "      <td>1LLXZFeAHK9R4xUramtUKw</td>\n",
       "      <td>London Boy</td>\n",
       "      <td>1NAmidJlEaVgA3MpcPFYGq</td>\n",
       "      <td>Lover</td>\n",
       "      <td>1LLXZFeAHK9R4xUramtUKw</td>\n",
       "    </tr>\n",
       "    <tr>\n",
       "      <th>287</th>\n",
       "      <td>1LLXZFeAHK9R4xUramtUKw</td>\n",
       "      <td>London Boy</td>\n",
       "      <td>1NAmidJlEaVgA3MpcPFYGq</td>\n",
       "      <td>Lover</td>\n",
       "      <td>1LLXZFeAHK9R4xUramtUKw</td>\n",
       "    </tr>\n",
       "  </tbody>\n",
       "</table>\n",
       "</div>"
      ],
      "text/plain": [
       "                   track_id       track_name                album_id  \\\n",
       "303  12M5uqx0ZuwkpLp5rJim1a  Cornelia Street  1NAmidJlEaVgA3MpcPFYGq   \n",
       "285  12M5uqx0ZuwkpLp5rJim1a  Cornelia Street  1NAmidJlEaVgA3MpcPFYGq   \n",
       "305  1LLXZFeAHK9R4xUramtUKw       London Boy  1NAmidJlEaVgA3MpcPFYGq   \n",
       "287  1LLXZFeAHK9R4xUramtUKw       London Boy  1NAmidJlEaVgA3MpcPFYGq   \n",
       "\n",
       "    album_name       audio_features.id  \n",
       "303      Lover  12M5uqx0ZuwkpLp5rJim1a  \n",
       "285      Lover  12M5uqx0ZuwkpLp5rJim1a  \n",
       "305      Lover  1LLXZFeAHK9R4xUramtUKw  \n",
       "287      Lover  1LLXZFeAHK9R4xUramtUKw  "
      ]
     },
     "execution_count": 79,
     "metadata": {},
     "output_type": "execute_result"
    }
   ],
   "source": [
    "df[df.duplicated(keep=False)][['track_id', 'track_name', 'album_id', 'album_name', 'audio_features.id']].sort_values('track_id').head(4)"
   ]
  },
  {
   "cell_type": "markdown",
   "metadata": {},
   "source": [
    "### track_ids Repetidos\n",
    "\n",
    "Existen 38 track_ids repetidos, provenientes de una duplicación de 19 track_ids que serían los originales"
   ]
  },
  {
   "cell_type": "code",
   "execution_count": 84,
   "metadata": {},
   "outputs": [
    {
     "data": {
      "text/html": [
       "<div>\n",
       "<style scoped>\n",
       "    .dataframe tbody tr th:only-of-type {\n",
       "        vertical-align: middle;\n",
       "    }\n",
       "\n",
       "    .dataframe tbody tr th {\n",
       "        vertical-align: top;\n",
       "    }\n",
       "\n",
       "    .dataframe thead th {\n",
       "        text-align: right;\n",
       "    }\n",
       "</style>\n",
       "<table border=\"1\" class=\"dataframe\">\n",
       "  <thead>\n",
       "    <tr style=\"text-align: right;\">\n",
       "      <th></th>\n",
       "      <th>track_id</th>\n",
       "      <th>track_name</th>\n",
       "      <th>album_id</th>\n",
       "      <th>album_name</th>\n",
       "      <th>audio_features.id</th>\n",
       "    </tr>\n",
       "  </thead>\n",
       "  <tbody>\n",
       "    <tr>\n",
       "      <th>303</th>\n",
       "      <td>12M5uqx0ZuwkpLp5rJim1a</td>\n",
       "      <td>Cornelia Street</td>\n",
       "      <td>1NAmidJlEaVgA3MpcPFYGq</td>\n",
       "      <td>Lover</td>\n",
       "      <td>12M5uqx0ZuwkpLp5rJim1a</td>\n",
       "    </tr>\n",
       "    <tr>\n",
       "      <th>285</th>\n",
       "      <td>12M5uqx0ZuwkpLp5rJim1a</td>\n",
       "      <td>Cornelia Street</td>\n",
       "      <td>1NAmidJlEaVgA3MpcPFYGq</td>\n",
       "      <td>Lover</td>\n",
       "      <td>12M5uqx0ZuwkpLp5rJim1a</td>\n",
       "    </tr>\n",
       "    <tr>\n",
       "      <th>278</th>\n",
       "      <td>1BxfuPKGuaTgP7aM0Bbdwr</td>\n",
       "      <td>Cruel Summer</td>\n",
       "      <td>1NAmidJlEaVgA3MpcPFYGq</td>\n",
       "      <td>Lover</td>\n",
       "      <td>1BxfuPKGuaTgP7aM0Bbdwr</td>\n",
       "    </tr>\n",
       "    <tr>\n",
       "      <th>296</th>\n",
       "      <td>1BxfuPKGuaTgP7aM0Bbdwr</td>\n",
       "      <td>Cruel Summer</td>\n",
       "      <td>1NAmidJlEaVgA3MpcPFYGq</td>\n",
       "      <td>Lover</td>\n",
       "      <td>1BxfuPKGuaTgP7aM0Bbdwr</td>\n",
       "    </tr>\n",
       "    <tr>\n",
       "      <th>305</th>\n",
       "      <td>1LLXZFeAHK9R4xUramtUKw</td>\n",
       "      <td>London Boy</td>\n",
       "      <td>1NAmidJlEaVgA3MpcPFYGq</td>\n",
       "      <td>Lover</td>\n",
       "      <td>1LLXZFeAHK9R4xUramtUKw</td>\n",
       "    </tr>\n",
       "    <tr>\n",
       "      <th>287</th>\n",
       "      <td>1LLXZFeAHK9R4xUramtUKw</td>\n",
       "      <td>London Boy</td>\n",
       "      <td>1NAmidJlEaVgA3MpcPFYGq</td>\n",
       "      <td>Lover</td>\n",
       "      <td>1LLXZFeAHK9R4xUramtUKw</td>\n",
       "    </tr>\n",
       "    <tr>\n",
       "      <th>311</th>\n",
       "      <td>1SmiQ65iSAbPto6gPFlBYm</td>\n",
       "      <td>It’s Nice To Have A Friend</td>\n",
       "      <td>1NAmidJlEaVgA3MpcPFYGq</td>\n",
       "      <td>Lover</td>\n",
       "      <td>1SmiQ65iSAbPto6gPFlBYm</td>\n",
       "    </tr>\n",
       "    <tr>\n",
       "      <th>293</th>\n",
       "      <td>1SmiQ65iSAbPto6gPFlBYm</td>\n",
       "      <td>It’s Nice To Have A Friend</td>\n",
       "      <td>1NAmidJlEaVgA3MpcPFYGq</td>\n",
       "      <td>Lover</td>\n",
       "      <td>1SmiQ65iSAbPto6gPFlBYm</td>\n",
       "    </tr>\n",
       "  </tbody>\n",
       "</table>\n",
       "</div>"
      ],
      "text/plain": [
       "                   track_id                  track_name  \\\n",
       "303  12M5uqx0ZuwkpLp5rJim1a             Cornelia Street   \n",
       "285  12M5uqx0ZuwkpLp5rJim1a             Cornelia Street   \n",
       "278  1BxfuPKGuaTgP7aM0Bbdwr                Cruel Summer   \n",
       "296  1BxfuPKGuaTgP7aM0Bbdwr                Cruel Summer   \n",
       "305  1LLXZFeAHK9R4xUramtUKw                  London Boy   \n",
       "287  1LLXZFeAHK9R4xUramtUKw                  London Boy   \n",
       "311  1SmiQ65iSAbPto6gPFlBYm  It’s Nice To Have A Friend   \n",
       "293  1SmiQ65iSAbPto6gPFlBYm  It’s Nice To Have A Friend   \n",
       "\n",
       "                   album_id album_name       audio_features.id  \n",
       "303  1NAmidJlEaVgA3MpcPFYGq      Lover  12M5uqx0ZuwkpLp5rJim1a  \n",
       "285  1NAmidJlEaVgA3MpcPFYGq      Lover  12M5uqx0ZuwkpLp5rJim1a  \n",
       "278  1NAmidJlEaVgA3MpcPFYGq      Lover  1BxfuPKGuaTgP7aM0Bbdwr  \n",
       "296  1NAmidJlEaVgA3MpcPFYGq      Lover  1BxfuPKGuaTgP7aM0Bbdwr  \n",
       "305  1NAmidJlEaVgA3MpcPFYGq      Lover  1LLXZFeAHK9R4xUramtUKw  \n",
       "287  1NAmidJlEaVgA3MpcPFYGq      Lover  1LLXZFeAHK9R4xUramtUKw  \n",
       "311  1NAmidJlEaVgA3MpcPFYGq      Lover  1SmiQ65iSAbPto6gPFlBYm  \n",
       "293  1NAmidJlEaVgA3MpcPFYGq      Lover  1SmiQ65iSAbPto6gPFlBYm  "
      ]
     },
     "execution_count": 84,
     "metadata": {},
     "output_type": "execute_result"
    }
   ],
   "source": [
    "df[df.duplicated(subset=['audio_features.id'], keep=False)][['track_id', 'track_name', 'album_id', 'album_name', 'audio_features.id']].sort_values('audio_features.id').head(8)"
   ]
  },
  {
   "cell_type": "code",
   "execution_count": 15,
   "metadata": {},
   "outputs": [
    {
     "name": "stdout",
     "output_type": "stream",
     "text": [
      "Existen 19 track_ids que fueron duplicados\n"
     ]
    },
    {
     "data": {
      "text/html": [
       "<div>\n",
       "<style scoped>\n",
       "    .dataframe tbody tr th:only-of-type {\n",
       "        vertical-align: middle;\n",
       "    }\n",
       "\n",
       "    .dataframe tbody tr th {\n",
       "        vertical-align: top;\n",
       "    }\n",
       "\n",
       "    .dataframe thead th {\n",
       "        text-align: right;\n",
       "    }\n",
       "</style>\n",
       "<table border=\"1\" class=\"dataframe\">\n",
       "  <thead>\n",
       "    <tr style=\"text-align: right;\">\n",
       "      <th></th>\n",
       "      <th>track_id</th>\n",
       "      <th>duplicated</th>\n",
       "      <th>real_duplicated</th>\n",
       "    </tr>\n",
       "  </thead>\n",
       "  <tbody>\n",
       "    <tr>\n",
       "      <th>0</th>\n",
       "      <td>12M5uqx0ZuwkpLp5rJim1a</td>\n",
       "      <td>2</td>\n",
       "      <td>1</td>\n",
       "    </tr>\n",
       "    <tr>\n",
       "      <th>1</th>\n",
       "      <td>2dgFqt3w9xIQRjhPtwNk3D</td>\n",
       "      <td>2</td>\n",
       "      <td>1</td>\n",
       "    </tr>\n",
       "    <tr>\n",
       "      <th>2</th>\n",
       "      <td>5hQSXkFgbxjZo9uCwd11so</td>\n",
       "      <td>2</td>\n",
       "      <td>1</td>\n",
       "    </tr>\n",
       "    <tr>\n",
       "      <th>3</th>\n",
       "      <td>4y5bvROuBDPr5fuwXbIBZR</td>\n",
       "      <td>2</td>\n",
       "      <td>1</td>\n",
       "    </tr>\n",
       "    <tr>\n",
       "      <th>4</th>\n",
       "      <td>4AYtqFyFbX0Xkc2wtcygTr</td>\n",
       "      <td>2</td>\n",
       "      <td>1</td>\n",
       "    </tr>\n",
       "    <tr>\n",
       "      <th>5</th>\n",
       "      <td>43rA71bccXFGD4C8GOpIlN</td>\n",
       "      <td>2</td>\n",
       "      <td>1</td>\n",
       "    </tr>\n",
       "    <tr>\n",
       "      <th>6</th>\n",
       "      <td>3xYJScVfxByb61dYHTwiby</td>\n",
       "      <td>2</td>\n",
       "      <td>1</td>\n",
       "    </tr>\n",
       "    <tr>\n",
       "      <th>7</th>\n",
       "      <td>3pHkh7d0lzM2AldUtz2x37</td>\n",
       "      <td>2</td>\n",
       "      <td>1</td>\n",
       "    </tr>\n",
       "    <tr>\n",
       "      <th>8</th>\n",
       "      <td>3RauEVgRgj1IuWdJ9fDs70</td>\n",
       "      <td>2</td>\n",
       "      <td>1</td>\n",
       "    </tr>\n",
       "    <tr>\n",
       "      <th>9</th>\n",
       "      <td>2YWtcWi3a83pdEg3Gif4Pd</td>\n",
       "      <td>2</td>\n",
       "      <td>1</td>\n",
       "    </tr>\n",
       "    <tr>\n",
       "      <th>10</th>\n",
       "      <td>1BxfuPKGuaTgP7aM0Bbdwr</td>\n",
       "      <td>2</td>\n",
       "      <td>1</td>\n",
       "    </tr>\n",
       "    <tr>\n",
       "      <th>11</th>\n",
       "      <td>2Rk4JlNc2TPmZe2af99d45</td>\n",
       "      <td>2</td>\n",
       "      <td>1</td>\n",
       "    </tr>\n",
       "    <tr>\n",
       "      <th>12</th>\n",
       "      <td>214nt20w5wOxJnY462klLw</td>\n",
       "      <td>2</td>\n",
       "      <td>1</td>\n",
       "    </tr>\n",
       "    <tr>\n",
       "      <th>13</th>\n",
       "      <td>1fzAuUVbzlhZ1lJAx9PtY6</td>\n",
       "      <td>2</td>\n",
       "      <td>1</td>\n",
       "    </tr>\n",
       "    <tr>\n",
       "      <th>14</th>\n",
       "      <td>1dGr1c8CrMLDpV6mPbImSI</td>\n",
       "      <td>2</td>\n",
       "      <td>1</td>\n",
       "    </tr>\n",
       "    <tr>\n",
       "      <th>15</th>\n",
       "      <td>1SymEzIT3H8UZfibCs3TYi</td>\n",
       "      <td>2</td>\n",
       "      <td>1</td>\n",
       "    </tr>\n",
       "    <tr>\n",
       "      <th>16</th>\n",
       "      <td>1SmiQ65iSAbPto6gPFlBYm</td>\n",
       "      <td>2</td>\n",
       "      <td>1</td>\n",
       "    </tr>\n",
       "    <tr>\n",
       "      <th>17</th>\n",
       "      <td>1LLXZFeAHK9R4xUramtUKw</td>\n",
       "      <td>2</td>\n",
       "      <td>1</td>\n",
       "    </tr>\n",
       "    <tr>\n",
       "      <th>18</th>\n",
       "      <td>6RRNNciQGZEXnqk8SQ9yv5</td>\n",
       "      <td>2</td>\n",
       "      <td>1</td>\n",
       "    </tr>\n",
       "  </tbody>\n",
       "</table>\n",
       "</div>"
      ],
      "text/plain": [
       "                  track_id  duplicated  real_duplicated\n",
       "0   12M5uqx0ZuwkpLp5rJim1a           2                1\n",
       "1   2dgFqt3w9xIQRjhPtwNk3D           2                1\n",
       "2   5hQSXkFgbxjZo9uCwd11so           2                1\n",
       "3   4y5bvROuBDPr5fuwXbIBZR           2                1\n",
       "4   4AYtqFyFbX0Xkc2wtcygTr           2                1\n",
       "5   43rA71bccXFGD4C8GOpIlN           2                1\n",
       "6   3xYJScVfxByb61dYHTwiby           2                1\n",
       "7   3pHkh7d0lzM2AldUtz2x37           2                1\n",
       "8   3RauEVgRgj1IuWdJ9fDs70           2                1\n",
       "9   2YWtcWi3a83pdEg3Gif4Pd           2                1\n",
       "10  1BxfuPKGuaTgP7aM0Bbdwr           2                1\n",
       "11  2Rk4JlNc2TPmZe2af99d45           2                1\n",
       "12  214nt20w5wOxJnY462klLw           2                1\n",
       "13  1fzAuUVbzlhZ1lJAx9PtY6           2                1\n",
       "14  1dGr1c8CrMLDpV6mPbImSI           2                1\n",
       "15  1SymEzIT3H8UZfibCs3TYi           2                1\n",
       "16  1SmiQ65iSAbPto6gPFlBYm           2                1\n",
       "17  1LLXZFeAHK9R4xUramtUKw           2                1\n",
       "18  6RRNNciQGZEXnqk8SQ9yv5           2                1"
      ]
     },
     "execution_count": 15,
     "metadata": {},
     "output_type": "execute_result"
    }
   ],
   "source": [
    "duplicate_tracks = dq.check_duplicates(df, 'track_id')\n",
    "duplicate_tracks['real_duplicated'] = duplicate_tracks['duplicated'] - 1\n",
    "print(f'Existen {duplicate_tracks[\"real_duplicated\"].sum()} track_ids que fueron duplicados')\n",
    "duplicate_tracks"
   ]
  },
  {
   "cell_type": "markdown",
   "metadata": {},
   "source": [
    "Ahora bien, si consideramos que cada track tiene un audio_features.id único, podríamos hacer el conteo de duplicados con este id para tener en consideración aquellos tracks_ids vacíos"
   ]
  },
  {
   "cell_type": "code",
   "execution_count": 76,
   "metadata": {},
   "outputs": [
    {
     "data": {
      "text/plain": [
       "519"
      ]
     },
     "execution_count": 76,
     "metadata": {},
     "output_type": "execute_result"
    }
   ],
   "source": [
    "len(df) - 20"
   ]
  },
  {
   "cell_type": "code",
   "execution_count": 75,
   "metadata": {},
   "outputs": [
    {
     "name": "stdout",
     "output_type": "stream",
     "text": [
      "Existen 20 audio_features.id que fueron duplicados\n"
     ]
    },
    {
     "data": {
      "text/html": [
       "<div>\n",
       "<style scoped>\n",
       "    .dataframe tbody tr th:only-of-type {\n",
       "        vertical-align: middle;\n",
       "    }\n",
       "\n",
       "    .dataframe tbody tr th {\n",
       "        vertical-align: top;\n",
       "    }\n",
       "\n",
       "    .dataframe thead th {\n",
       "        text-align: right;\n",
       "    }\n",
       "</style>\n",
       "<table border=\"1\" class=\"dataframe\">\n",
       "  <thead>\n",
       "    <tr style=\"text-align: right;\">\n",
       "      <th></th>\n",
       "      <th>audio_features.id</th>\n",
       "      <th>duplicated</th>\n",
       "      <th>real_duplicated</th>\n",
       "    </tr>\n",
       "  </thead>\n",
       "  <tbody>\n",
       "    <tr>\n",
       "      <th>0</th>\n",
       "      <td>12M5uqx0ZuwkpLp5rJim1a</td>\n",
       "      <td>2</td>\n",
       "      <td>1</td>\n",
       "    </tr>\n",
       "    <tr>\n",
       "      <th>1</th>\n",
       "      <td>1BxfuPKGuaTgP7aM0Bbdwr</td>\n",
       "      <td>2</td>\n",
       "      <td>1</td>\n",
       "    </tr>\n",
       "    <tr>\n",
       "      <th>2</th>\n",
       "      <td>5hQSXkFgbxjZo9uCwd11so</td>\n",
       "      <td>2</td>\n",
       "      <td>1</td>\n",
       "    </tr>\n",
       "    <tr>\n",
       "      <th>3</th>\n",
       "      <td>4y5bvROuBDPr5fuwXbIBZR</td>\n",
       "      <td>2</td>\n",
       "      <td>1</td>\n",
       "    </tr>\n",
       "    <tr>\n",
       "      <th>4</th>\n",
       "      <td>4AYtqFyFbX0Xkc2wtcygTr</td>\n",
       "      <td>2</td>\n",
       "      <td>1</td>\n",
       "    </tr>\n",
       "    <tr>\n",
       "      <th>5</th>\n",
       "      <td>43rA71bccXFGD4C8GOpIlN</td>\n",
       "      <td>2</td>\n",
       "      <td>1</td>\n",
       "    </tr>\n",
       "    <tr>\n",
       "      <th>6</th>\n",
       "      <td>3xYJScVfxByb61dYHTwiby</td>\n",
       "      <td>2</td>\n",
       "      <td>1</td>\n",
       "    </tr>\n",
       "    <tr>\n",
       "      <th>7</th>\n",
       "      <td>3pHkh7d0lzM2AldUtz2x37</td>\n",
       "      <td>2</td>\n",
       "      <td>1</td>\n",
       "    </tr>\n",
       "    <tr>\n",
       "      <th>8</th>\n",
       "      <td>3RauEVgRgj1IuWdJ9fDs70</td>\n",
       "      <td>2</td>\n",
       "      <td>1</td>\n",
       "    </tr>\n",
       "    <tr>\n",
       "      <th>9</th>\n",
       "      <td>2dgFqt3w9xIQRjhPtwNk3D</td>\n",
       "      <td>2</td>\n",
       "      <td>1</td>\n",
       "    </tr>\n",
       "    <tr>\n",
       "      <th>10</th>\n",
       "      <td>2YWtcWi3a83pdEg3Gif4Pd</td>\n",
       "      <td>2</td>\n",
       "      <td>1</td>\n",
       "    </tr>\n",
       "    <tr>\n",
       "      <th>11</th>\n",
       "      <td>2Rk4JlNc2TPmZe2af99d45</td>\n",
       "      <td>2</td>\n",
       "      <td>1</td>\n",
       "    </tr>\n",
       "    <tr>\n",
       "      <th>12</th>\n",
       "      <td>214nt20w5wOxJnY462klLw</td>\n",
       "      <td>2</td>\n",
       "      <td>1</td>\n",
       "    </tr>\n",
       "    <tr>\n",
       "      <th>13</th>\n",
       "      <td>1fzAuUVbzlhZ1lJAx9PtY6</td>\n",
       "      <td>2</td>\n",
       "      <td>1</td>\n",
       "    </tr>\n",
       "    <tr>\n",
       "      <th>14</th>\n",
       "      <td>1dGr1c8CrMLDpV6mPbImSI</td>\n",
       "      <td>2</td>\n",
       "      <td>1</td>\n",
       "    </tr>\n",
       "    <tr>\n",
       "      <th>15</th>\n",
       "      <td>1ZY1PqizIl78geGM4xWlEA</td>\n",
       "      <td>2</td>\n",
       "      <td>1</td>\n",
       "    </tr>\n",
       "    <tr>\n",
       "      <th>16</th>\n",
       "      <td>1SymEzIT3H8UZfibCs3TYi</td>\n",
       "      <td>2</td>\n",
       "      <td>1</td>\n",
       "    </tr>\n",
       "    <tr>\n",
       "      <th>17</th>\n",
       "      <td>1SmiQ65iSAbPto6gPFlBYm</td>\n",
       "      <td>2</td>\n",
       "      <td>1</td>\n",
       "    </tr>\n",
       "    <tr>\n",
       "      <th>18</th>\n",
       "      <td>1LLXZFeAHK9R4xUramtUKw</td>\n",
       "      <td>2</td>\n",
       "      <td>1</td>\n",
       "    </tr>\n",
       "    <tr>\n",
       "      <th>19</th>\n",
       "      <td>6RRNNciQGZEXnqk8SQ9yv5</td>\n",
       "      <td>2</td>\n",
       "      <td>1</td>\n",
       "    </tr>\n",
       "  </tbody>\n",
       "</table>\n",
       "</div>"
      ],
      "text/plain": [
       "         audio_features.id  duplicated  real_duplicated\n",
       "0   12M5uqx0ZuwkpLp5rJim1a           2                1\n",
       "1   1BxfuPKGuaTgP7aM0Bbdwr           2                1\n",
       "2   5hQSXkFgbxjZo9uCwd11so           2                1\n",
       "3   4y5bvROuBDPr5fuwXbIBZR           2                1\n",
       "4   4AYtqFyFbX0Xkc2wtcygTr           2                1\n",
       "5   43rA71bccXFGD4C8GOpIlN           2                1\n",
       "6   3xYJScVfxByb61dYHTwiby           2                1\n",
       "7   3pHkh7d0lzM2AldUtz2x37           2                1\n",
       "8   3RauEVgRgj1IuWdJ9fDs70           2                1\n",
       "9   2dgFqt3w9xIQRjhPtwNk3D           2                1\n",
       "10  2YWtcWi3a83pdEg3Gif4Pd           2                1\n",
       "11  2Rk4JlNc2TPmZe2af99d45           2                1\n",
       "12  214nt20w5wOxJnY462klLw           2                1\n",
       "13  1fzAuUVbzlhZ1lJAx9PtY6           2                1\n",
       "14  1dGr1c8CrMLDpV6mPbImSI           2                1\n",
       "15  1ZY1PqizIl78geGM4xWlEA           2                1\n",
       "16  1SymEzIT3H8UZfibCs3TYi           2                1\n",
       "17  1SmiQ65iSAbPto6gPFlBYm           2                1\n",
       "18  1LLXZFeAHK9R4xUramtUKw           2                1\n",
       "19  6RRNNciQGZEXnqk8SQ9yv5           2                1"
      ]
     },
     "execution_count": 75,
     "metadata": {},
     "output_type": "execute_result"
    }
   ],
   "source": [
    "duplicate_tracks = dq.check_duplicates(df, 'audio_features.id')\n",
    "duplicate_tracks['real_duplicated'] = duplicate_tracks['duplicated'] - 1\n",
    "print(f'Existen {duplicate_tracks[\"real_duplicated\"].sum()} audio_features.id que fueron duplicados')\n",
    "duplicate_tracks"
   ]
  },
  {
   "cell_type": "markdown",
   "metadata": {},
   "source": [
    "### Consistencia llaves primarias"
   ]
  },
  {
   "cell_type": "code",
   "execution_count": 16,
   "metadata": {},
   "outputs": [],
   "source": [
    "key_pairs_compare = [\n",
    "    ('album_id', 'album_name'), \n",
    "    ('album_name', 'album_id'),\n",
    "    ('artist_id', 'artist_name'),\n",
    "    ('artist_name', 'artist_id'),\n",
    "    ('track_id', 'track_name'),\n",
    "    ('track_name', 'track_id')\n",
    "]"
   ]
  },
  {
   "cell_type": "code",
   "execution_count": 59,
   "metadata": {},
   "outputs": [
    {
     "name": "stdout",
     "output_type": "stream",
     "text": [
      "No se encontraron inconsistencias en 'album_id' respecto a 'album_name':\n",
      "No se encontraron inconsistencias en 'album_name' respecto a 'album_id':\n",
      "No se encontraron inconsistencias en 'artist_id' respecto a 'artist_name':\n",
      "No se encontraron inconsistencias en 'artist_name' respecto a 'artist_id':\n",
      "No se encontraron inconsistencias en 'track_id' respecto a 'track_name':\n",
      "Inconsistencias encontradas en 'track_name' respecto a 'track_id':\n"
     ]
    }
   ],
   "source": [
    "df_unique = df.drop_duplicates().drop_duplicates(subset=['audio_features.id', 'album_id']).copy()\n",
    "duplicates = dq.validate_key_to_value_consistency(df_unique, key_pairs_compare)"
   ]
  },
  {
   "cell_type": "markdown",
   "metadata": {},
   "source": [
    "Se encontraron 306 tracks que tienen nombres repetidos entre sí. De esos 306 solo 128 son los nombres únicos. En otras palabras: hay 128 track_names que están repetidos al menos una vez"
   ]
  },
  {
   "cell_type": "code",
   "execution_count": 85,
   "metadata": {},
   "outputs": [
    {
     "name": "stdout",
     "output_type": "stream",
     "text": [
      "track_name    128\n",
      "dtype: int64\n"
     ]
    },
    {
     "data": {
      "text/html": [
       "<div>\n",
       "<style scoped>\n",
       "    .dataframe tbody tr th:only-of-type {\n",
       "        vertical-align: middle;\n",
       "    }\n",
       "\n",
       "    .dataframe tbody tr th {\n",
       "        vertical-align: top;\n",
       "    }\n",
       "\n",
       "    .dataframe thead th {\n",
       "        text-align: right;\n",
       "    }\n",
       "</style>\n",
       "<table border=\"1\" class=\"dataframe\">\n",
       "  <thead>\n",
       "    <tr style=\"text-align: right;\">\n",
       "      <th></th>\n",
       "      <th>track_id</th>\n",
       "      <th>track_name</th>\n",
       "      <th>album_id</th>\n",
       "      <th>album_name</th>\n",
       "    </tr>\n",
       "  </thead>\n",
       "  <tbody>\n",
       "    <tr>\n",
       "      <th>0</th>\n",
       "      <td>0CD7DzeCsuPJygddqlUVYa</td>\n",
       "      <td>\"Slut!\" (Taylor's Version) (From The Vault)</td>\n",
       "      <td>1o59UpKw81iHR0HPiSkJR0</td>\n",
       "      <td>1989 (Taylor's Version) [Deluxe]</td>\n",
       "    </tr>\n",
       "    <tr>\n",
       "      <th>1</th>\n",
       "      <td>71BqAINEnezjQfxE4VuJfq</td>\n",
       "      <td>\"Slut!\" (Taylor's Version) (From The Vault)</td>\n",
       "      <td>64LU4c1nfjz1t4VnGhagcg</td>\n",
       "      <td>1989 (Taylor's Version)</td>\n",
       "    </tr>\n",
       "    <tr>\n",
       "      <th>2</th>\n",
       "      <td>3WC5CVAahvn98hiseoIvbw</td>\n",
       "      <td>22</td>\n",
       "      <td>1KVKqWeRuXsJDLTW0VuD29</td>\n",
       "      <td>Red (Deluxe Edition)</td>\n",
       "    </tr>\n",
       "    <tr>\n",
       "      <th>3</th>\n",
       "      <td>2P5gfMtCcKP0CkmgqFMyPg</td>\n",
       "      <td>22</td>\n",
       "      <td>1MPAXuTVL2Ej5x0JHiSPq8</td>\n",
       "      <td>NaN</td>\n",
       "    </tr>\n",
       "    <tr>\n",
       "      <th>4</th>\n",
       "      <td>2RSYYe7LhKFxIi50T5XtUo</td>\n",
       "      <td>A Place in this World</td>\n",
       "      <td>1MPAXuTVL2Ej5x0JHiSPq8</td>\n",
       "      <td>NaN</td>\n",
       "    </tr>\n",
       "    <tr>\n",
       "      <th>...</th>\n",
       "      <td>...</td>\n",
       "      <td>...</td>\n",
       "      <td>...</td>\n",
       "      <td>...</td>\n",
       "    </tr>\n",
       "    <tr>\n",
       "      <th>301</th>\n",
       "      <td>0PurA4JVJ8YQgSVopY8fn6</td>\n",
       "      <td>tolerate it</td>\n",
       "      <td>2Xoteh7uEpea4TohMxjtaq</td>\n",
       "      <td>evermore</td>\n",
       "    </tr>\n",
       "    <tr>\n",
       "      <th>302</th>\n",
       "      <td>0lx2cLdOt3piJbcaXIV74f</td>\n",
       "      <td>willow</td>\n",
       "      <td>2Xoteh7uEpea4TohMxjtaq</td>\n",
       "      <td>evermore</td>\n",
       "    </tr>\n",
       "    <tr>\n",
       "      <th>303</th>\n",
       "      <td>2gVhfX2Gy1T9kDuS9azrF7</td>\n",
       "      <td>willow</td>\n",
       "      <td>6AORtDjduMM3bupSWzbTSG</td>\n",
       "      <td>evermore (deluxe version)</td>\n",
       "    </tr>\n",
       "    <tr>\n",
       "      <th>304</th>\n",
       "      <td>6sQckd3Z8NPxVVKUnavY1F</td>\n",
       "      <td>‘tis the damn season</td>\n",
       "      <td>6AORtDjduMM3bupSWzbTSG</td>\n",
       "      <td>evermore (deluxe version)</td>\n",
       "    </tr>\n",
       "    <tr>\n",
       "      <th>305</th>\n",
       "      <td>7dW84mWkdWE5a6lFWxJCBG</td>\n",
       "      <td>‘tis the damn season</td>\n",
       "      <td>2Xoteh7uEpea4TohMxjtaq</td>\n",
       "      <td>evermore</td>\n",
       "    </tr>\n",
       "  </tbody>\n",
       "</table>\n",
       "<p>306 rows × 4 columns</p>\n",
       "</div>"
      ],
      "text/plain": [
       "                   track_id                                   track_name  \\\n",
       "0    0CD7DzeCsuPJygddqlUVYa  \"Slut!\" (Taylor's Version) (From The Vault)   \n",
       "1    71BqAINEnezjQfxE4VuJfq  \"Slut!\" (Taylor's Version) (From The Vault)   \n",
       "2    3WC5CVAahvn98hiseoIvbw                                           22   \n",
       "3    2P5gfMtCcKP0CkmgqFMyPg                                           22   \n",
       "4    2RSYYe7LhKFxIi50T5XtUo                        A Place in this World   \n",
       "..                      ...                                          ...   \n",
       "301  0PurA4JVJ8YQgSVopY8fn6                                  tolerate it   \n",
       "302  0lx2cLdOt3piJbcaXIV74f                                       willow   \n",
       "303  2gVhfX2Gy1T9kDuS9azrF7                                       willow   \n",
       "304  6sQckd3Z8NPxVVKUnavY1F                         ‘tis the damn season   \n",
       "305  7dW84mWkdWE5a6lFWxJCBG                         ‘tis the damn season   \n",
       "\n",
       "                   album_id                        album_name  \n",
       "0    1o59UpKw81iHR0HPiSkJR0  1989 (Taylor's Version) [Deluxe]  \n",
       "1    64LU4c1nfjz1t4VnGhagcg           1989 (Taylor's Version)  \n",
       "2    1KVKqWeRuXsJDLTW0VuD29              Red (Deluxe Edition)  \n",
       "3    1MPAXuTVL2Ej5x0JHiSPq8                               NaN  \n",
       "4    1MPAXuTVL2Ej5x0JHiSPq8                               NaN  \n",
       "..                      ...                               ...  \n",
       "301  2Xoteh7uEpea4TohMxjtaq                          evermore  \n",
       "302  2Xoteh7uEpea4TohMxjtaq                          evermore  \n",
       "303  6AORtDjduMM3bupSWzbTSG         evermore (deluxe version)  \n",
       "304  6AORtDjduMM3bupSWzbTSG         evermore (deluxe version)  \n",
       "305  2Xoteh7uEpea4TohMxjtaq                          evermore  \n",
       "\n",
       "[306 rows x 4 columns]"
      ]
     },
     "execution_count": 85,
     "metadata": {},
     "output_type": "execute_result"
    }
   ],
   "source": [
    "print(duplicates[['track_name']].nunique())\n",
    "duplicates[['track_id', 'track_name', 'album_id', 'album_name']].sort_values('track_name').reset_index(drop=True)"
   ]
  },
  {
   "cell_type": "markdown",
   "metadata": {},
   "source": [
    "### % de Unicidad"
   ]
  },
  {
   "cell_type": "markdown",
   "metadata": {},
   "source": [
    "En este caso lo veremos este % basados en la unicidad del track_id"
   ]
  },
  {
   "cell_type": "code",
   "execution_count": 19,
   "metadata": {},
   "outputs": [
    {
     "name": "stdout",
     "output_type": "stream",
     "text": [
      "La unicidad del dataframe es de 94.99%\n"
     ]
    }
   ],
   "source": [
    "unique_tracks = df['track_id'].nunique()\n",
    "total_tracks = len(df)\n",
    "uniqueness = unique_tracks / total_tracks\n",
    "print(f'La unicidad del dataframe es de {uniqueness*100:.2f}%')"
   ]
  },
  {
   "cell_type": "markdown",
   "metadata": {},
   "source": [
    "Si se evalua basado en el track name"
   ]
  },
  {
   "cell_type": "code",
   "execution_count": 20,
   "metadata": {},
   "outputs": [
    {
     "name": "stdout",
     "output_type": "stream",
     "text": [
      "La unicidad del dataframe es de 61.41%\n"
     ]
    }
   ],
   "source": [
    "unique_tracks = df['track_name'].nunique()\n",
    "total_tracks = len(df)\n",
    "uniqueness = unique_tracks / total_tracks\n",
    "print(f'La unicidad del dataframe es de {uniqueness*100:.2f}%')"
   ]
  },
  {
   "cell_type": "markdown",
   "metadata": {},
   "source": [
    "Si se evalua basado en audio_features.id"
   ]
  },
  {
   "cell_type": "code",
   "execution_count": 61,
   "metadata": {},
   "outputs": [
    {
     "name": "stdout",
     "output_type": "stream",
     "text": [
      "La unicidad del dataframe es de 96.29%\n"
     ]
    }
   ],
   "source": [
    "unique_tracks = df['audio_features.id'].nunique()\n",
    "total_tracks = len(df)\n",
    "uniqueness = unique_tracks / total_tracks\n",
    "print(f'La unicidad del dataframe es de {uniqueness*100:.2f}%')"
   ]
  },
  {
   "cell_type": "markdown",
   "metadata": {},
   "source": [
    "## Validez y Precisión"
   ]
  },
  {
   "cell_type": "markdown",
   "metadata": {},
   "source": [
    "Aquí validaremos que cada columna contenga tipos de datos consistentes. Los tipos de datos que validaremos son:\n",
    "- Numericos (int y float)\n",
    "  - positivo\n",
    "  - negativo\n",
    "- Strings\n",
    "- Dates\n",
    "- Booleans\n",
    "\n",
    "También se tendran en cuenta otras validaciones lógicas del dataset"
   ]
  },
  {
   "cell_type": "markdown",
   "metadata": {},
   "source": [
    "### Tipos de datos"
   ]
  },
  {
   "cell_type": "code",
   "execution_count": 62,
   "metadata": {},
   "outputs": [
    {
     "data": {
      "image/png": "[encoded data removed]",
      "text/plain": [
       "<Figure size 1000x800 with 1 Axes>"
      ]
     },
     "metadata": {},
     "output_type": "display_data"
    }
   ],
   "source": [
    "validity_matrix = dq.infer_and_validate_data_types(df_unique)\n",
    "dq.graph_data_types(validity_matrix.drop(['NaN'], axis=1))"
   ]
  },
  {
   "cell_type": "markdown",
   "metadata": {},
   "source": [
    "### Validaciones (precisión)"
   ]
  },
  {
   "cell_type": "markdown",
   "metadata": {},
   "source": [
    "#### No se cumple con el tipo de Dato"
   ]
  },
  {
   "cell_type": "markdown",
   "metadata": {},
   "source": [
    "En la gráfica anterior resalta que en la columna 'album_total_tracks' la regla general es que los datos deberían ser númericos, sin embargo hay 15 casos donde esto no sucede y se debe a que en lugar de poner el número 13 se puso Thirteen."
   ]
  },
  {
   "cell_type": "code",
   "execution_count": 63,
   "metadata": {},
   "outputs": [
    {
     "data": {
      "text/plain": [
       "album_total_tracks\n",
       "Thirteen    15\n",
       "dtype: int64"
      ]
     },
     "execution_count": 63,
     "metadata": {},
     "output_type": "execute_result"
    }
   ],
   "source": [
    "df_not_valid = df_unique.copy()\n",
    "df_not_valid['album_total_tracks_type'] = df_not_valid['album_total_tracks'].apply(dq.infer_type)\n",
    "df_not_valid = df_not_valid[df_not_valid['album_total_tracks_type'] == 'str'].groupby('album_total_tracks').size()\n",
    "df_not_valid"
   ]
  },
  {
   "cell_type": "markdown",
   "metadata": {},
   "source": [
    "Adicionalmente también se identifica que en la columna explicit deberían haber en su mayoría valores booleanos, sin embargo hay 4 casos donde el valor está puesto como 'Si' o 'No'"
   ]
  },
  {
   "cell_type": "code",
   "execution_count": 64,
   "metadata": {},
   "outputs": [
    {
     "data": {
      "text/plain": [
       "explicit\n",
       "No    3\n",
       "Si    1\n",
       "dtype: int64"
      ]
     },
     "execution_count": 64,
     "metadata": {},
     "output_type": "execute_result"
    }
   ],
   "source": [
    "df_not_valid = df_unique.copy()\n",
    "df_not_valid['explicit_type'] = df_not_valid['explicit'].apply(dq.infer_type)\n",
    "df_not_valid = df_not_valid[df_not_valid['explicit_type'] == 'str'].groupby('explicit').size()\n",
    "df_not_valid"
   ]
  },
  {
   "cell_type": "markdown",
   "metadata": {},
   "source": [
    "#### No se cumple que todos los valores sean positivos"
   ]
  },
  {
   "cell_type": "markdown",
   "metadata": {},
   "source": [
    "Se identifican tres columnas donde hay valores negativos que no tienen mucho sentido y se procede a validarlas:\n",
    "- 'duration_ms'\n",
    "- 'track_popularity'\n",
    "- 'audio_features.acousticness'\n",
    "\n",
    "'audio_features.loudness' es otra variable con valores negativos, sin embargo la documentación nos dice que este valor debe ir entre -60 y 0."
   ]
  },
  {
   "cell_type": "code",
   "execution_count": 65,
   "metadata": {},
   "outputs": [
    {
     "data": {
      "text/html": [
       "<div>\n",
       "<style scoped>\n",
       "    .dataframe tbody tr th:only-of-type {\n",
       "        vertical-align: middle;\n",
       "    }\n",
       "\n",
       "    .dataframe tbody tr th {\n",
       "        vertical-align: top;\n",
       "    }\n",
       "\n",
       "    .dataframe thead th {\n",
       "        text-align: right;\n",
       "    }\n",
       "</style>\n",
       "<table border=\"1\" class=\"dataframe\">\n",
       "  <thead>\n",
       "    <tr style=\"text-align: right;\">\n",
       "      <th></th>\n",
       "      <th>NaN</th>\n",
       "      <th>boolean</th>\n",
       "      <th>date</th>\n",
       "      <th>numeric_negative</th>\n",
       "      <th>numeric_positive</th>\n",
       "      <th>str</th>\n",
       "    </tr>\n",
       "  </thead>\n",
       "  <tbody>\n",
       "    <tr>\n",
       "      <th>duration_ms</th>\n",
       "      <td>0.0</td>\n",
       "      <td>0.0</td>\n",
       "      <td>0.0</td>\n",
       "      <td>2.0</td>\n",
       "      <td>517.0</td>\n",
       "      <td>0.0</td>\n",
       "    </tr>\n",
       "    <tr>\n",
       "      <th>track_popularity</th>\n",
       "      <td>0.0</td>\n",
       "      <td>0.0</td>\n",
       "      <td>0.0</td>\n",
       "      <td>6.0</td>\n",
       "      <td>513.0</td>\n",
       "      <td>0.0</td>\n",
       "    </tr>\n",
       "    <tr>\n",
       "      <th>audio_features.loudness</th>\n",
       "      <td>2.0</td>\n",
       "      <td>0.0</td>\n",
       "      <td>0.0</td>\n",
       "      <td>517.0</td>\n",
       "      <td>0.0</td>\n",
       "      <td>0.0</td>\n",
       "    </tr>\n",
       "    <tr>\n",
       "      <th>audio_features.acousticness</th>\n",
       "      <td>1.0</td>\n",
       "      <td>0.0</td>\n",
       "      <td>0.0</td>\n",
       "      <td>2.0</td>\n",
       "      <td>516.0</td>\n",
       "      <td>0.0</td>\n",
       "    </tr>\n",
       "  </tbody>\n",
       "</table>\n",
       "</div>"
      ],
      "text/plain": [
       "                             NaN  boolean  date  numeric_negative  \\\n",
       "duration_ms                  0.0      0.0   0.0               2.0   \n",
       "track_popularity             0.0      0.0   0.0               6.0   \n",
       "audio_features.loudness      2.0      0.0   0.0             517.0   \n",
       "audio_features.acousticness  1.0      0.0   0.0               2.0   \n",
       "\n",
       "                             numeric_positive  str  \n",
       "duration_ms                             517.0  0.0  \n",
       "track_popularity                        513.0  0.0  \n",
       "audio_features.loudness                   0.0  0.0  \n",
       "audio_features.acousticness             516.0  0.0  "
      ]
     },
     "execution_count": 65,
     "metadata": {},
     "output_type": "execute_result"
    }
   ],
   "source": [
    "validity_matrix[validity_matrix['numeric_negative']>0]"
   ]
  },
  {
   "cell_type": "markdown",
   "metadata": {},
   "source": [
    "##### duration_ms\n",
    "En este caso se encontró que hay dos tracks que tienen una duración negativa, lo cual no tiene mucho sentido si hablamos de una medida de tiempo"
   ]
  },
  {
   "cell_type": "code",
   "execution_count": 66,
   "metadata": {},
   "outputs": [
    {
     "data": {
      "text/html": [
       "<div>\n",
       "<style scoped>\n",
       "    .dataframe tbody tr th:only-of-type {\n",
       "        vertical-align: middle;\n",
       "    }\n",
       "\n",
       "    .dataframe tbody tr th {\n",
       "        vertical-align: top;\n",
       "    }\n",
       "\n",
       "    .dataframe thead th {\n",
       "        text-align: right;\n",
       "    }\n",
       "</style>\n",
       "<table border=\"1\" class=\"dataframe\">\n",
       "  <thead>\n",
       "    <tr style=\"text-align: right;\">\n",
       "      <th></th>\n",
       "      <th>track_id</th>\n",
       "      <th>track_name</th>\n",
       "      <th>duration_ms</th>\n",
       "    </tr>\n",
       "  </thead>\n",
       "  <tbody>\n",
       "    <tr>\n",
       "      <th>392</th>\n",
       "      <td>4eTXfpHxhxVofrBUjAhPMg</td>\n",
       "      <td>I Wish You Would - Voice Memo</td>\n",
       "      <td>-107133</td>\n",
       "    </tr>\n",
       "    <tr>\n",
       "      <th>408</th>\n",
       "      <td>7gJtmLyPTwKzhGzMBXtuXH</td>\n",
       "      <td>NaN</td>\n",
       "      <td>-223093</td>\n",
       "    </tr>\n",
       "  </tbody>\n",
       "</table>\n",
       "</div>"
      ],
      "text/plain": [
       "                   track_id                     track_name  duration_ms\n",
       "392  4eTXfpHxhxVofrBUjAhPMg  I Wish You Would - Voice Memo      -107133\n",
       "408  7gJtmLyPTwKzhGzMBXtuXH                            NaN      -223093"
      ]
     },
     "execution_count": 66,
     "metadata": {},
     "output_type": "execute_result"
    }
   ],
   "source": [
    "df_unique[df_unique['duration_ms']<0][['track_id', 'track_name', 'duration_ms']]"
   ]
  },
  {
   "cell_type": "markdown",
   "metadata": {},
   "source": [
    "##### track_popularity"
   ]
  },
  {
   "cell_type": "code",
   "execution_count": 67,
   "metadata": {},
   "outputs": [
    {
     "data": {
      "text/html": [
       "<div>\n",
       "<style scoped>\n",
       "    .dataframe tbody tr th:only-of-type {\n",
       "        vertical-align: middle;\n",
       "    }\n",
       "\n",
       "    .dataframe tbody tr th {\n",
       "        vertical-align: top;\n",
       "    }\n",
       "\n",
       "    .dataframe thead th {\n",
       "        text-align: right;\n",
       "    }\n",
       "</style>\n",
       "<table border=\"1\" class=\"dataframe\">\n",
       "  <thead>\n",
       "    <tr style=\"text-align: right;\">\n",
       "      <th></th>\n",
       "      <th>track_id</th>\n",
       "      <th>track_name</th>\n",
       "      <th>track_popularity</th>\n",
       "    </tr>\n",
       "  </thead>\n",
       "  <tbody>\n",
       "    <tr>\n",
       "      <th>75</th>\n",
       "      <td>45R112Jz5hQeKgITXgSXzs</td>\n",
       "      <td>Karma</td>\n",
       "      <td>-69</td>\n",
       "    </tr>\n",
       "    <tr>\n",
       "      <th>89</th>\n",
       "      <td>4g2c7NoTWAOSYDy44l9nub</td>\n",
       "      <td>Lavender Haze</td>\n",
       "      <td>-70</td>\n",
       "    </tr>\n",
       "    <tr>\n",
       "      <th>109</th>\n",
       "      <td>5jQI2r1RdgtuT8S3iG8zFC</td>\n",
       "      <td>Lavender Haze</td>\n",
       "      <td>-85</td>\n",
       "    </tr>\n",
       "    <tr>\n",
       "      <th>111</th>\n",
       "      <td>0V3wPSX9ygBnCm8psDIegu</td>\n",
       "      <td>Anti-Hero</td>\n",
       "      <td>-92</td>\n",
       "    </tr>\n",
       "    <tr>\n",
       "      <th>115</th>\n",
       "      <td>0heeNYlwOGuUSe7TgUD27B</td>\n",
       "      <td>Question...?</td>\n",
       "      <td>-75</td>\n",
       "    </tr>\n",
       "    <tr>\n",
       "      <th>128</th>\n",
       "      <td>2r9CbjYgFhtAmcFv1cSquB</td>\n",
       "      <td>I Almost Do (Taylor's Version)</td>\n",
       "      <td>-71</td>\n",
       "    </tr>\n",
       "  </tbody>\n",
       "</table>\n",
       "</div>"
      ],
      "text/plain": [
       "                   track_id                      track_name  track_popularity\n",
       "75   45R112Jz5hQeKgITXgSXzs                           Karma               -69\n",
       "89   4g2c7NoTWAOSYDy44l9nub                   Lavender Haze               -70\n",
       "109  5jQI2r1RdgtuT8S3iG8zFC                   Lavender Haze               -85\n",
       "111  0V3wPSX9ygBnCm8psDIegu                       Anti-Hero               -92\n",
       "115  0heeNYlwOGuUSe7TgUD27B                    Question...?               -75\n",
       "128  2r9CbjYgFhtAmcFv1cSquB  I Almost Do (Taylor's Version)               -71"
      ]
     },
     "execution_count": 67,
     "metadata": {},
     "output_type": "execute_result"
    }
   ],
   "source": [
    "df_unique[df_unique['track_popularity']<0][['track_id', 'track_name', 'track_popularity']]"
   ]
  },
  {
   "cell_type": "markdown",
   "metadata": {},
   "source": [
    "##### audio_features.acousticness"
   ]
  },
  {
   "cell_type": "code",
   "execution_count": 68,
   "metadata": {},
   "outputs": [
    {
     "data": {
      "text/html": [
       "<div>\n",
       "<style scoped>\n",
       "    .dataframe tbody tr th:only-of-type {\n",
       "        vertical-align: middle;\n",
       "    }\n",
       "\n",
       "    .dataframe tbody tr th {\n",
       "        vertical-align: top;\n",
       "    }\n",
       "\n",
       "    .dataframe thead th {\n",
       "        text-align: right;\n",
       "    }\n",
       "</style>\n",
       "<table border=\"1\" class=\"dataframe\">\n",
       "  <thead>\n",
       "    <tr style=\"text-align: right;\">\n",
       "      <th></th>\n",
       "      <th>track_id</th>\n",
       "      <th>track_name</th>\n",
       "      <th>audio_features.acousticness</th>\n",
       "    </tr>\n",
       "  </thead>\n",
       "  <tbody>\n",
       "    <tr>\n",
       "      <th>3</th>\n",
       "      <td>1OcSfkeCg9hRC2sFKB4IMJ</td>\n",
       "      <td>Out Of The Woods (Taylor's Version)</td>\n",
       "      <td>-0.000537</td>\n",
       "    </tr>\n",
       "    <tr>\n",
       "      <th>6</th>\n",
       "      <td>3FxJDucHWdw6caWTKO5b23</td>\n",
       "      <td>I Wish You Would (Taylor's Version)</td>\n",
       "      <td>-0.003540</td>\n",
       "    </tr>\n",
       "  </tbody>\n",
       "</table>\n",
       "</div>"
      ],
      "text/plain": [
       "                 track_id                           track_name  \\\n",
       "3  1OcSfkeCg9hRC2sFKB4IMJ  Out Of The Woods (Taylor's Version)   \n",
       "6  3FxJDucHWdw6caWTKO5b23  I Wish You Would (Taylor's Version)   \n",
       "\n",
       "   audio_features.acousticness  \n",
       "3                    -0.000537  \n",
       "6                    -0.003540  "
      ]
     },
     "execution_count": 68,
     "metadata": {},
     "output_type": "execute_result"
    }
   ],
   "source": [
    "df_unique[df_unique['audio_features.acousticness']<0][['track_id', 'track_name', 'audio_features.acousticness']]"
   ]
  },
  {
   "cell_type": "markdown",
   "metadata": {},
   "source": [
    "#### Se cumplen Rangos para valores númericos?"
   ]
  },
  {
   "cell_type": "markdown",
   "metadata": {},
   "source": [
    "Se establecieron los minimos y máximos de cada variable númerica **de interés** basados en la información de la API. La idea es validar qué todos los valores de cada variable cumplan con estos limites"
   ]
  },
  {
   "cell_type": "code",
   "execution_count": 69,
   "metadata": {},
   "outputs": [],
   "source": [
    "# (variable_name, minimum, maximum)\n",
    "NUMERIC_VALUES_W_RANGES = [\n",
    "    ('track_popularity', 0, 100),\n",
    "    ('artist_popularity', 0, 100),\n",
    "    ('audio_features.danceability', 0, 1),\n",
    "    ('audio_features.energy', 0, 1),\n",
    "    ('audio_features.loudness', -60, 0),\n",
    "    ('audio_features.speechiness', 0, 1),\n",
    "    ('audio_features.acousticness', 0, 1),\n",
    "    ('audio_features.instrumentalness', 0, 1),\n",
    "    ('audio_features.liveness', 0, 1),\n",
    "    ('audio_features.valence', 0, 1),\n",
    "    ('audio_features.time_signature', 3, 7),\n",
    "]"
   ]
  },
  {
   "cell_type": "code",
   "execution_count": 70,
   "metadata": {},
   "outputs": [
    {
     "data": {
      "text/plain": [
       "track_popularity                   0.986513\n",
       "artist_popularity                  0.000000\n",
       "audio_features.danceability        0.996146\n",
       "audio_features.energy              0.996146\n",
       "audio_features.loudness            0.996146\n",
       "audio_features.speechiness         0.998073\n",
       "audio_features.acousticness        0.988439\n",
       "audio_features.instrumentalness    0.998073\n",
       "audio_features.liveness            0.998073\n",
       "audio_features.valence             1.000000\n",
       "audio_features.time_signature      0.998073\n",
       "dtype: float64"
      ]
     },
     "execution_count": 70,
     "metadata": {},
     "output_type": "execute_result"
    }
   ],
   "source": [
    "df_ranges = dq.check_ranges(df_unique, NUMERIC_VALUES_W_RANGES)\n",
    "df_ranges.sum() / len(df_ranges)"
   ]
  },
  {
   "cell_type": "markdown",
   "metadata": {},
   "source": [
    "En casi todos los casos menos en 'audio_features.acousticness' lo que no se cumple es debido a valores faltantes y no a valores fuera del rango. Aquí los casos en donde acousticness aparece incumpliendo esta regla de rangos"
   ]
  },
  {
   "cell_type": "code",
   "execution_count": 71,
   "metadata": {},
   "outputs": [
    {
     "data": {
      "text/html": [
       "<div>\n",
       "<style scoped>\n",
       "    .dataframe tbody tr th:only-of-type {\n",
       "        vertical-align: middle;\n",
       "    }\n",
       "\n",
       "    .dataframe tbody tr th {\n",
       "        vertical-align: top;\n",
       "    }\n",
       "\n",
       "    .dataframe thead th {\n",
       "        text-align: right;\n",
       "    }\n",
       "</style>\n",
       "<table border=\"1\" class=\"dataframe\">\n",
       "  <thead>\n",
       "    <tr style=\"text-align: right;\">\n",
       "      <th></th>\n",
       "      <th>track_id</th>\n",
       "      <th>track_name</th>\n",
       "      <th>audio_features.acousticness</th>\n",
       "    </tr>\n",
       "  </thead>\n",
       "  <tbody>\n",
       "    <tr>\n",
       "      <th>1</th>\n",
       "      <td>0108kcWLnn2HlH2kedi1gn</td>\n",
       "      <td>Blank Space (Taylor's Version)</td>\n",
       "      <td>5.000000</td>\n",
       "    </tr>\n",
       "    <tr>\n",
       "      <th>3</th>\n",
       "      <td>1OcSfkeCg9hRC2sFKB4IMJ</td>\n",
       "      <td>Out Of The Woods (Taylor's Version)</td>\n",
       "      <td>-0.000537</td>\n",
       "    </tr>\n",
       "    <tr>\n",
       "      <th>6</th>\n",
       "      <td>3FxJDucHWdw6caWTKO5b23</td>\n",
       "      <td>I Wish You Would (Taylor's Version)</td>\n",
       "      <td>-0.003540</td>\n",
       "    </tr>\n",
       "    <tr>\n",
       "      <th>431</th>\n",
       "      <td>72GIZuUXo14oyrS0si3Rgc</td>\n",
       "      <td>The Story Of Us - Live</td>\n",
       "      <td>NaN</td>\n",
       "    </tr>\n",
       "    <tr>\n",
       "      <th>527</th>\n",
       "      <td>1oR4MUBpyNrAViC8wPNpfm</td>\n",
       "      <td>A Place in this World</td>\n",
       "      <td>1.500000</td>\n",
       "    </tr>\n",
       "    <tr>\n",
       "      <th>535</th>\n",
       "      <td>7CzxXgQXurKZCyHz9ufbo1</td>\n",
       "      <td>I'm Only Me When I'm With You</td>\n",
       "      <td>2.000000</td>\n",
       "    </tr>\n",
       "  </tbody>\n",
       "</table>\n",
       "</div>"
      ],
      "text/plain": [
       "                   track_id                           track_name  \\\n",
       "1    0108kcWLnn2HlH2kedi1gn       Blank Space (Taylor's Version)   \n",
       "3    1OcSfkeCg9hRC2sFKB4IMJ  Out Of The Woods (Taylor's Version)   \n",
       "6    3FxJDucHWdw6caWTKO5b23  I Wish You Would (Taylor's Version)   \n",
       "431  72GIZuUXo14oyrS0si3Rgc               The Story Of Us - Live   \n",
       "527  1oR4MUBpyNrAViC8wPNpfm                A Place in this World   \n",
       "535  7CzxXgQXurKZCyHz9ufbo1        I'm Only Me When I'm With You   \n",
       "\n",
       "     audio_features.acousticness  \n",
       "1                       5.000000  \n",
       "3                      -0.000537  \n",
       "6                      -0.003540  \n",
       "431                          NaN  \n",
       "527                     1.500000  \n",
       "535                     2.000000  "
      ]
     },
     "execution_count": 71,
     "metadata": {},
     "output_type": "execute_result"
    }
   ],
   "source": [
    "df_unique[~df_ranges['audio_features.acousticness']][['track_id', 'track_name','audio_features.acousticness']]"
   ]
  },
  {
   "cell_type": "markdown",
   "metadata": {},
   "source": [
    "##### Datos atípicos para duration_ms"
   ]
  },
  {
   "cell_type": "markdown",
   "metadata": {},
   "source": [
    "En este caso validaremos los casos atípicos en cuanto a duración de las canciones. Para esto:\n",
    "- Eliminamos los valores negativos que ya descartamos en puntos anteriores\n",
    "- Tranformaremos la data a minutos para leerla de manera más sencilla"
   ]
  },
  {
   "cell_type": "code",
   "execution_count": 90,
   "metadata": {},
   "outputs": [
    {
     "data": {
      "image/png": "[encoded data removed]",
      "text/plain": [
       "<Figure size 1000x600 with 1 Axes>"
      ]
     },
     "metadata": {},
     "output_type": "display_data"
    }
   ],
   "source": [
    "df_unique['duration_min'] = df_unique['duration_ms'] / 60000\n",
    "outliers = dq.plot_outliers_and_return_df(df_unique[df_unique['duration_ms']>=0], 'duration_min')"
   ]
  },
  {
   "cell_type": "code",
   "execution_count": 92,
   "metadata": {},
   "outputs": [
    {
     "name": "stdout",
     "output_type": "stream",
     "text": [
      "Existen 23 datos atípicos de duración\n"
     ]
    }
   ],
   "source": [
    "print(f'Existen {len(outliers)} datos atípicos de duración')"
   ]
  },
  {
   "cell_type": "code",
   "execution_count": 99,
   "metadata": {},
   "outputs": [
    {
     "data": {
      "text/html": [
       "<div>\n",
       "<style scoped>\n",
       "    .dataframe tbody tr th:only-of-type {\n",
       "        vertical-align: middle;\n",
       "    }\n",
       "\n",
       "    .dataframe tbody tr th {\n",
       "        vertical-align: top;\n",
       "    }\n",
       "\n",
       "    .dataframe thead th {\n",
       "        text-align: right;\n",
       "    }\n",
       "</style>\n",
       "<table border=\"1\" class=\"dataframe\">\n",
       "  <thead>\n",
       "    <tr style=\"text-align: right;\">\n",
       "      <th></th>\n",
       "      <th>track_id</th>\n",
       "      <th>track_name</th>\n",
       "      <th>album_id</th>\n",
       "      <th>duration_ms</th>\n",
       "      <th>duration_min</th>\n",
       "    </tr>\n",
       "  </thead>\n",
       "  <tbody>\n",
       "    <tr>\n",
       "      <th>420</th>\n",
       "      <td>5PjfMmF06QtxTPZBZHdhoZ</td>\n",
       "      <td>Everything Has Changed</td>\n",
       "      <td>1KVKqWeRuXsJDLTW0VuD29</td>\n",
       "      <td>10</td>\n",
       "      <td>0.000167</td>\n",
       "    </tr>\n",
       "    <tr>\n",
       "      <th>432</th>\n",
       "      <td>7mFiEij8AXPUZB7aKLbUlQ</td>\n",
       "      <td>Mean - Live/2011</td>\n",
       "      <td>6fyR4wBPwLHKcRtxgd4sGh</td>\n",
       "      <td>1000</td>\n",
       "      <td>0.016667</td>\n",
       "    </tr>\n",
       "    <tr>\n",
       "      <th>472</th>\n",
       "      <td>7BFc7ffruhZ4Hecnqf5xju</td>\n",
       "      <td>Long Live</td>\n",
       "      <td>6S6JQWzUrJVcJLK4fi74Fw</td>\n",
       "      <td>3000</td>\n",
       "      <td>0.050000</td>\n",
       "    </tr>\n",
       "    <tr>\n",
       "      <th>440</th>\n",
       "      <td>4KB3zBArZ1rHRExilzycaV</td>\n",
       "      <td>I Want You Back - Live/2011</td>\n",
       "      <td>6fyR4wBPwLHKcRtxgd4sGh</td>\n",
       "      <td>83253</td>\n",
       "      <td>1.387550</td>\n",
       "    </tr>\n",
       "    <tr>\n",
       "      <th>393</th>\n",
       "      <td>4e6QU4gpfZj9xxcK856RgG</td>\n",
       "      <td>Blank Space - Voice Memo</td>\n",
       "      <td>1yGbNOtRIgdIiGHOEBaZWf</td>\n",
       "      <td>131186</td>\n",
       "      <td>2.186433</td>\n",
       "    </tr>\n",
       "    <tr>\n",
       "      <th>429</th>\n",
       "      <td>1aBJNc2thaKyh5THWzIqHX</td>\n",
       "      <td>Sparks Fly - Live/2011</td>\n",
       "      <td>6fyR4wBPwLHKcRtxgd4sGh</td>\n",
       "      <td>336826</td>\n",
       "      <td>5.613767</td>\n",
       "    </tr>\n",
       "    <tr>\n",
       "      <th>435</th>\n",
       "      <td>6505MLhnqTDDg4tjoUz2Wp</td>\n",
       "      <td>Better Than Revenge - Live/2011</td>\n",
       "      <td>6fyR4wBPwLHKcRtxgd4sGh</td>\n",
       "      <td>344573</td>\n",
       "      <td>5.742883</td>\n",
       "    </tr>\n",
       "    <tr>\n",
       "      <th>467</th>\n",
       "      <td>3sqrvkNC6IPTIXvvbx9Arw</td>\n",
       "      <td>Enchanted</td>\n",
       "      <td>6S6JQWzUrJVcJLK4fi74Fw</td>\n",
       "      <td>352200</td>\n",
       "      <td>5.870000</td>\n",
       "    </tr>\n",
       "    <tr>\n",
       "      <th>453</th>\n",
       "      <td>04S1pkp1VaIqjg8zZqknR5</td>\n",
       "      <td>Enchanted</td>\n",
       "      <td>6Ar2o9KCqcyYF9J0aQP3au</td>\n",
       "      <td>352200</td>\n",
       "      <td>5.870000</td>\n",
       "    </tr>\n",
       "    <tr>\n",
       "      <th>51</th>\n",
       "      <td>3sW3oSbzsfecv9XoUdGs7h</td>\n",
       "      <td>Enchanted (Taylor's Version)</td>\n",
       "      <td>5AEDGbliTTfjOB8TSm1sxt</td>\n",
       "      <td>353253</td>\n",
       "      <td>5.887550</td>\n",
       "    </tr>\n",
       "    <tr>\n",
       "      <th>352</th>\n",
       "      <td>5lg33MHs1BoUtJVClw8ZpI</td>\n",
       "      <td>Enchanted</td>\n",
       "      <td>1MPAXuTVL2Ej5x0JHiSPq8</td>\n",
       "      <td>353253</td>\n",
       "      <td>5.887550</td>\n",
       "    </tr>\n",
       "    <tr>\n",
       "      <th>434</th>\n",
       "      <td>NaN</td>\n",
       "      <td>Back To December/Apologize/You're Not Sorry - ...</td>\n",
       "      <td>6fyR4wBPwLHKcRtxgd4sGh</td>\n",
       "      <td>362826</td>\n",
       "      <td>6.047100</td>\n",
       "    </tr>\n",
       "    <tr>\n",
       "      <th>457</th>\n",
       "      <td>4EUQXLipplO2v9mVaqQtjc</td>\n",
       "      <td>Last Kiss</td>\n",
       "      <td>6Ar2o9KCqcyYF9J0aQP3au</td>\n",
       "      <td>367146</td>\n",
       "      <td>6.119100</td>\n",
       "    </tr>\n",
       "    <tr>\n",
       "      <th>471</th>\n",
       "      <td>1VCJ7vk3Y2DoJIAEOXe3V8</td>\n",
       "      <td>Last Kiss</td>\n",
       "      <td>6S6JQWzUrJVcJLK4fi74Fw</td>\n",
       "      <td>367146</td>\n",
       "      <td>6.119100</td>\n",
       "    </tr>\n",
       "    <tr>\n",
       "      <th>437</th>\n",
       "      <td>6hH37tyeRdyan1mAppmVor</td>\n",
       "      <td>Last Kiss - Live/2011</td>\n",
       "      <td>6fyR4wBPwLHKcRtxgd4sGh</td>\n",
       "      <td>369066</td>\n",
       "      <td>6.151100</td>\n",
       "    </tr>\n",
       "    <tr>\n",
       "      <th>55</th>\n",
       "      <td>59KOoHFcw5XfICnO57holu</td>\n",
       "      <td>Last Kiss (Taylor's Version)</td>\n",
       "      <td>5AEDGbliTTfjOB8TSm1sxt</td>\n",
       "      <td>369120</td>\n",
       "      <td>6.152000</td>\n",
       "    </tr>\n",
       "    <tr>\n",
       "      <th>444</th>\n",
       "      <td>5QkzyLUb4ggojNDp8G2OxX</td>\n",
       "      <td>Long Live - Live/2011</td>\n",
       "      <td>6fyR4wBPwLHKcRtxgd4sGh</td>\n",
       "      <td>376466</td>\n",
       "      <td>6.274433</td>\n",
       "    </tr>\n",
       "    <tr>\n",
       "      <th>442</th>\n",
       "      <td>NaN</td>\n",
       "      <td>Enchanted - Live/2011</td>\n",
       "      <td>6fyR4wBPwLHKcRtxgd4sGh</td>\n",
       "      <td>389213</td>\n",
       "      <td>6.486883</td>\n",
       "    </tr>\n",
       "    <tr>\n",
       "      <th>463</th>\n",
       "      <td>1GeLxMgpeCnMJntwyW6rLw</td>\n",
       "      <td>Dear John</td>\n",
       "      <td>6S6JQWzUrJVcJLK4fi74Fw</td>\n",
       "      <td>403887</td>\n",
       "      <td>6.731450</td>\n",
       "    </tr>\n",
       "    <tr>\n",
       "      <th>449</th>\n",
       "      <td>3K2es3gElMRJ3qvmPW442g</td>\n",
       "      <td>Dear John</td>\n",
       "      <td>6Ar2o9KCqcyYF9J0aQP3au</td>\n",
       "      <td>403933</td>\n",
       "      <td>6.732217</td>\n",
       "    </tr>\n",
       "    <tr>\n",
       "      <th>441</th>\n",
       "      <td>4DbI1rr4IQ2bc8nejy9ttd</td>\n",
       "      <td>Dear John - Live/2011</td>\n",
       "      <td>6fyR4wBPwLHKcRtxgd4sGh</td>\n",
       "      <td>404680</td>\n",
       "      <td>6.744667</td>\n",
       "    </tr>\n",
       "    <tr>\n",
       "      <th>47</th>\n",
       "      <td>1zU8j1x3yi9xalMF96pzKp</td>\n",
       "      <td>Dear John (Taylor's Version)</td>\n",
       "      <td>5AEDGbliTTfjOB8TSm1sxt</td>\n",
       "      <td>405906</td>\n",
       "      <td>6.765100</td>\n",
       "    </tr>\n",
       "    <tr>\n",
       "      <th>151</th>\n",
       "      <td>5enxwA8aAbwZbf5qCHORXi</td>\n",
       "      <td>All Too Well (10 Minute Version) (Taylor's Ver...</td>\n",
       "      <td>6kZ42qRrzov54LcAk4onW9</td>\n",
       "      <td>613026</td>\n",
       "      <td>10.217100</td>\n",
       "    </tr>\n",
       "  </tbody>\n",
       "</table>\n",
       "</div>"
      ],
      "text/plain": [
       "                   track_id  \\\n",
       "420  5PjfMmF06QtxTPZBZHdhoZ   \n",
       "432  7mFiEij8AXPUZB7aKLbUlQ   \n",
       "472  7BFc7ffruhZ4Hecnqf5xju   \n",
       "440  4KB3zBArZ1rHRExilzycaV   \n",
       "393  4e6QU4gpfZj9xxcK856RgG   \n",
       "429  1aBJNc2thaKyh5THWzIqHX   \n",
       "435  6505MLhnqTDDg4tjoUz2Wp   \n",
       "467  3sqrvkNC6IPTIXvvbx9Arw   \n",
       "453  04S1pkp1VaIqjg8zZqknR5   \n",
       "51   3sW3oSbzsfecv9XoUdGs7h   \n",
       "352  5lg33MHs1BoUtJVClw8ZpI   \n",
       "434                     NaN   \n",
       "457  4EUQXLipplO2v9mVaqQtjc   \n",
       "471  1VCJ7vk3Y2DoJIAEOXe3V8   \n",
       "437  6hH37tyeRdyan1mAppmVor   \n",
       "55   59KOoHFcw5XfICnO57holu   \n",
       "444  5QkzyLUb4ggojNDp8G2OxX   \n",
       "442                     NaN   \n",
       "463  1GeLxMgpeCnMJntwyW6rLw   \n",
       "449  3K2es3gElMRJ3qvmPW442g   \n",
       "441  4DbI1rr4IQ2bc8nejy9ttd   \n",
       "47   1zU8j1x3yi9xalMF96pzKp   \n",
       "151  5enxwA8aAbwZbf5qCHORXi   \n",
       "\n",
       "                                            track_name  \\\n",
       "420                             Everything Has Changed   \n",
       "432                                   Mean - Live/2011   \n",
       "472                                          Long Live   \n",
       "440                        I Want You Back - Live/2011   \n",
       "393                           Blank Space - Voice Memo   \n",
       "429                             Sparks Fly - Live/2011   \n",
       "435                    Better Than Revenge - Live/2011   \n",
       "467                                          Enchanted   \n",
       "453                                          Enchanted   \n",
       "51                        Enchanted (Taylor's Version)   \n",
       "352                                          Enchanted   \n",
       "434  Back To December/Apologize/You're Not Sorry - ...   \n",
       "457                                          Last Kiss   \n",
       "471                                          Last Kiss   \n",
       "437                              Last Kiss - Live/2011   \n",
       "55                        Last Kiss (Taylor's Version)   \n",
       "444                              Long Live - Live/2011   \n",
       "442                              Enchanted - Live/2011   \n",
       "463                                          Dear John   \n",
       "449                                          Dear John   \n",
       "441                              Dear John - Live/2011   \n",
       "47                        Dear John (Taylor's Version)   \n",
       "151  All Too Well (10 Minute Version) (Taylor's Ver...   \n",
       "\n",
       "                   album_id  duration_ms  duration_min  \n",
       "420  1KVKqWeRuXsJDLTW0VuD29           10      0.000167  \n",
       "432  6fyR4wBPwLHKcRtxgd4sGh         1000      0.016667  \n",
       "472  6S6JQWzUrJVcJLK4fi74Fw         3000      0.050000  \n",
       "440  6fyR4wBPwLHKcRtxgd4sGh        83253      1.387550  \n",
       "393  1yGbNOtRIgdIiGHOEBaZWf       131186      2.186433  \n",
       "429  6fyR4wBPwLHKcRtxgd4sGh       336826      5.613767  \n",
       "435  6fyR4wBPwLHKcRtxgd4sGh       344573      5.742883  \n",
       "467  6S6JQWzUrJVcJLK4fi74Fw       352200      5.870000  \n",
       "453  6Ar2o9KCqcyYF9J0aQP3au       352200      5.870000  \n",
       "51   5AEDGbliTTfjOB8TSm1sxt       353253      5.887550  \n",
       "352  1MPAXuTVL2Ej5x0JHiSPq8       353253      5.887550  \n",
       "434  6fyR4wBPwLHKcRtxgd4sGh       362826      6.047100  \n",
       "457  6Ar2o9KCqcyYF9J0aQP3au       367146      6.119100  \n",
       "471  6S6JQWzUrJVcJLK4fi74Fw       367146      6.119100  \n",
       "437  6fyR4wBPwLHKcRtxgd4sGh       369066      6.151100  \n",
       "55   5AEDGbliTTfjOB8TSm1sxt       369120      6.152000  \n",
       "444  6fyR4wBPwLHKcRtxgd4sGh       376466      6.274433  \n",
       "442  6fyR4wBPwLHKcRtxgd4sGh       389213      6.486883  \n",
       "463  6S6JQWzUrJVcJLK4fi74Fw       403887      6.731450  \n",
       "449  6Ar2o9KCqcyYF9J0aQP3au       403933      6.732217  \n",
       "441  6fyR4wBPwLHKcRtxgd4sGh       404680      6.744667  \n",
       "47   5AEDGbliTTfjOB8TSm1sxt       405906      6.765100  \n",
       "151  6kZ42qRrzov54LcAk4onW9       613026     10.217100  "
      ]
     },
     "execution_count": 99,
     "metadata": {},
     "output_type": "execute_result"
    }
   ],
   "source": [
    "outliers[['track_id', 'track_name', 'album_id', 'duration_ms', 'duration_min']].sort_values('duration_ms')"
   ]
  },
  {
   "cell_type": "code",
   "execution_count": 96,
   "metadata": {},
   "outputs": [
    {
     "data": {
      "text/html": [
       "<div>\n",
       "<style scoped>\n",
       "    .dataframe tbody tr th:only-of-type {\n",
       "        vertical-align: middle;\n",
       "    }\n",
       "\n",
       "    .dataframe tbody tr th {\n",
       "        vertical-align: top;\n",
       "    }\n",
       "\n",
       "    .dataframe thead th {\n",
       "        text-align: right;\n",
       "    }\n",
       "</style>\n",
       "<table border=\"1\" class=\"dataframe\">\n",
       "  <thead>\n",
       "    <tr style=\"text-align: right;\">\n",
       "      <th></th>\n",
       "      <th>track_id</th>\n",
       "      <th>track_name</th>\n",
       "      <th>album_id</th>\n",
       "      <th>duration_ms</th>\n",
       "      <th>duration_min</th>\n",
       "    </tr>\n",
       "  </thead>\n",
       "  <tbody>\n",
       "    <tr>\n",
       "      <th>441</th>\n",
       "      <td>4DbI1rr4IQ2bc8nejy9ttd</td>\n",
       "      <td>Dear John - Live/2011</td>\n",
       "      <td>6fyR4wBPwLHKcRtxgd4sGh</td>\n",
       "      <td>404680</td>\n",
       "      <td>6.744667</td>\n",
       "    </tr>\n",
       "    <tr>\n",
       "      <th>47</th>\n",
       "      <td>1zU8j1x3yi9xalMF96pzKp</td>\n",
       "      <td>Dear John (Taylor's Version)</td>\n",
       "      <td>5AEDGbliTTfjOB8TSm1sxt</td>\n",
       "      <td>405906</td>\n",
       "      <td>6.765100</td>\n",
       "    </tr>\n",
       "    <tr>\n",
       "      <th>151</th>\n",
       "      <td>5enxwA8aAbwZbf5qCHORXi</td>\n",
       "      <td>All Too Well (10 Minute Version) (Taylor's Ver...</td>\n",
       "      <td>6kZ42qRrzov54LcAk4onW9</td>\n",
       "      <td>613026</td>\n",
       "      <td>10.217100</td>\n",
       "    </tr>\n",
       "  </tbody>\n",
       "</table>\n",
       "</div>"
      ],
      "text/plain": [
       "                   track_id  \\\n",
       "441  4DbI1rr4IQ2bc8nejy9ttd   \n",
       "47   1zU8j1x3yi9xalMF96pzKp   \n",
       "151  5enxwA8aAbwZbf5qCHORXi   \n",
       "\n",
       "                                            track_name  \\\n",
       "441                              Dear John - Live/2011   \n",
       "47                        Dear John (Taylor's Version)   \n",
       "151  All Too Well (10 Minute Version) (Taylor's Ver...   \n",
       "\n",
       "                   album_id  duration_ms  duration_min  \n",
       "441  6fyR4wBPwLHKcRtxgd4sGh       404680      6.744667  \n",
       "47   5AEDGbliTTfjOB8TSm1sxt       405906      6.765100  \n",
       "151  6kZ42qRrzov54LcAk4onW9       613026     10.217100  "
      ]
     },
     "execution_count": 96,
     "metadata": {},
     "output_type": "execute_result"
    }
   ],
   "source": [
    "outliers[['track_id', 'track_name', 'album_id', 'duration_ms', 'duration_min']].sort_values('duration_ms').tail(3)"
   ]
  },
  {
   "cell_type": "markdown",
   "metadata": {},
   "source": [
    "Los datos atípicos que son mayores a 6 minutos son canciones que efectivamente sí duran esto, pero terminan siendo outliers porque se salen del tiempo usal de las canciones de la artista (puede validarse el ejemplo del track_id 5enxwA8aAbwZbf5qCHORXi donde en el mismo nombre se incluye: 10 Minute Version). \n",
    "\n",
    "Por el lado de los outliers por debajo de los 2.2 minutos, se puede observar que solo 3 de ellos son datos que realmente están mal. Estos son:\n",
    "- 5PjfMmF06QtxTPZBZHdhoZ\n",
    "- 7mFiEij8AXPUZB7aKLbUlQ\n",
    "- 7BFc7ffruhZ4Hecnqf5xju"
   ]
  },
  {
   "cell_type": "markdown",
   "metadata": {},
   "source": [
    "#### 'release_date' hace sentido?\n",
    "- Validaremos que las fechas de release de las canciones sean menores o iguales al año actual, ya que esta API solo nos retorna albumnes que ya fueron lanzados\n",
    "- En este caso específico también validaremos que los albumes hayan sido lanzados desde el año en que Taylor Swift está activa en la música (2004) Ref: [Wikipedia](https://es.wikipedia.org/wiki/Taylor_Swift).\n",
    "\n",
    "En este caso hay 38 casos de tracks donde no hace sentido el año de lanzamiento"
   ]
  },
  {
   "cell_type": "code",
   "execution_count": 41,
   "metadata": {},
   "outputs": [],
   "source": [
    "df_unique['album_release_date'] = pd.to_datetime(df_unique['album_release_date'])\n",
    "current_year = datetime.datetime.now().year\n",
    "active_year = 2004\n",
    "df_dates = df_unique.copy()\n",
    "df_dates = df_dates[df_dates['album_release_date'].notna()]"
   ]
  },
  {
   "cell_type": "code",
   "execution_count": 32,
   "metadata": {},
   "outputs": [
    {
     "name": "stdout",
     "output_type": "stream",
     "text": [
      "Cantidad de tracks donde el albúm fue \"lanzado\" antes del año en que Taylor Swift empezó actividades (2004): 15\n",
      "Cantidad de tracks donde el albúm fue \"lanzado\" posterior al año actual (2023): 23\n"
     ]
    }
   ],
   "source": [
    "tracks_after = df_dates[(df_dates['album_release_date'].dt.year > current_year)]\n",
    "tracks_before = df_dates[(df_dates['album_release_date'].dt.year < active_year)]\n",
    "\n",
    "print(f'Cantidad de tracks donde el albúm fue \"lanzado\" antes del año en que Taylor Swift empezó actividades ({active_year}): {tracks_before[\"track_id\"].count()}')\n",
    "print(f'Cantidad de tracks donde el albúm fue \"lanzado\" posterior al año actual ({current_year}): {tracks_after[\"track_id\"].count()}')"
   ]
  },
  {
   "cell_type": "code",
   "execution_count": 46,
   "metadata": {},
   "outputs": [
    {
     "data": {
      "text/html": [
       "<div>\n",
       "<style scoped>\n",
       "    .dataframe tbody tr th:only-of-type {\n",
       "        vertical-align: middle;\n",
       "    }\n",
       "\n",
       "    .dataframe tbody tr th {\n",
       "        vertical-align: top;\n",
       "    }\n",
       "\n",
       "    .dataframe thead th {\n",
       "        text-align: right;\n",
       "    }\n",
       "</style>\n",
       "<table border=\"1\" class=\"dataframe\">\n",
       "  <thead>\n",
       "    <tr style=\"text-align: right;\">\n",
       "      <th></th>\n",
       "      <th>track_id</th>\n",
       "      <th>track_name</th>\n",
       "      <th>album_id</th>\n",
       "      <th>album_name</th>\n",
       "      <th>album_release_date</th>\n",
       "    </tr>\n",
       "  </thead>\n",
       "  <tbody>\n",
       "    <tr>\n",
       "      <th>524</th>\n",
       "      <td>0Jlcvv8IykzHaSmj49uNW8</td>\n",
       "      <td>the 1</td>\n",
       "      <td>5eyZZoQEFQWRHkV2xgAeBw</td>\n",
       "      <td>Taylor Swift</td>\n",
       "      <td>1989-10-24</td>\n",
       "    </tr>\n",
       "    <tr>\n",
       "      <th>525</th>\n",
       "      <td>4BYejINgfZF0qKDMEH2cim</td>\n",
       "      <td>Picture To Burn</td>\n",
       "      <td>5eyZZoQEFQWRHkV2xgAeBw</td>\n",
       "      <td>Taylor Swift</td>\n",
       "      <td>1989-10-24</td>\n",
       "    </tr>\n",
       "    <tr>\n",
       "      <th>526</th>\n",
       "      <td>2TF4UtYreqNbQ6Z9AccldU</td>\n",
       "      <td>Teardrops On My Guitar - Radio Single Remix</td>\n",
       "      <td>5eyZZoQEFQWRHkV2xgAeBw</td>\n",
       "      <td>Taylor Swift</td>\n",
       "      <td>1989-10-24</td>\n",
       "    </tr>\n",
       "  </tbody>\n",
       "</table>\n",
       "</div>"
      ],
      "text/plain": [
       "                   track_id                                   track_name  \\\n",
       "524  0Jlcvv8IykzHaSmj49uNW8                                        the 1   \n",
       "525  4BYejINgfZF0qKDMEH2cim                              Picture To Burn   \n",
       "526  2TF4UtYreqNbQ6Z9AccldU  Teardrops On My Guitar - Radio Single Remix   \n",
       "\n",
       "                   album_id    album_name album_release_date  \n",
       "524  5eyZZoQEFQWRHkV2xgAeBw  Taylor Swift         1989-10-24  \n",
       "525  5eyZZoQEFQWRHkV2xgAeBw  Taylor Swift         1989-10-24  \n",
       "526  5eyZZoQEFQWRHkV2xgAeBw  Taylor Swift         1989-10-24  "
      ]
     },
     "execution_count": 46,
     "metadata": {},
     "output_type": "execute_result"
    }
   ],
   "source": [
    "vars = ['track_id', 'track_name', 'album_id', 'album_name', 'album_release_date']\n",
    "tracks_before[vars].head(3)"
   ]
  },
  {
   "cell_type": "markdown",
   "metadata": {},
   "source": [
    "#### 'album_total_tracks' refleja el verdadero conteo de tracks del albúm?"
   ]
  },
  {
   "cell_type": "markdown",
   "metadata": {},
   "source": [
    "Primero validamos que no existan albumes donde haya más de un conteo diferente de tracks. Esta prueba podemos ver que se pasa sin problemas"
   ]
  },
  {
   "cell_type": "code",
   "execution_count": 56,
   "metadata": {},
   "outputs": [
    {
     "name": "stdout",
     "output_type": "stream",
     "text": [
      "Validación pasada\n"
     ]
    }
   ],
   "source": [
    "df_albums = df.drop_duplicates(subset=[ 'audio_features.id','album_id'])\n",
    "\n",
    "original_total_tracks = (\n",
    "    df_albums[df_albums['album_id'] != '5eyZZoQEFQWRHkV2xgAeBw'] # Elimino el album que tiene el error\n",
    "    [['album_id', 'album_total_tracks']]\n",
    "    .groupby('album_id')\n",
    "    .agg(\n",
    "        max=('album_total_tracks', 'max'),\n",
    "        min=('album_total_tracks', 'min')\n",
    "    )\n",
    ")\n",
    "\n",
    "original_total_tracks['max'] = original_total_tracks['max'].astype(int)\n",
    "original_total_tracks['min']= original_total_tracks['min'].astype(int)\n",
    "\n",
    "original_total_tracks['difference'] = original_total_tracks['max'] - original_total_tracks['min']\n",
    "print('Validación pasada') if original_total_tracks['difference'].max() == 0 else print('Validación fallida')\n",
    "original_total_tracks.reset_index(inplace=True)"
   ]
  },
  {
   "cell_type": "markdown",
   "metadata": {},
   "source": [
    "Ahora veremos que al hacer el conteo manual de tracks por album nos de igual que el conteo existente"
   ]
  },
  {
   "cell_type": "code",
   "execution_count": 57,
   "metadata": {},
   "outputs": [
    {
     "name": "stdout",
     "output_type": "stream",
     "text": [
      "Validación fallida\n"
     ]
    },
    {
     "data": {
      "text/html": [
       "<div>\n",
       "<style scoped>\n",
       "    .dataframe tbody tr th:only-of-type {\n",
       "        vertical-align: middle;\n",
       "    }\n",
       "\n",
       "    .dataframe tbody tr th {\n",
       "        vertical-align: top;\n",
       "    }\n",
       "\n",
       "    .dataframe thead th {\n",
       "        text-align: right;\n",
       "    }\n",
       "</style>\n",
       "<table border=\"1\" class=\"dataframe\">\n",
       "  <thead>\n",
       "    <tr style=\"text-align: right;\">\n",
       "      <th></th>\n",
       "      <th>album_id</th>\n",
       "      <th>manual_count</th>\n",
       "      <th>original_count</th>\n",
       "      <th>difference</th>\n",
       "    </tr>\n",
       "  </thead>\n",
       "  <tbody>\n",
       "    <tr>\n",
       "      <th>6</th>\n",
       "      <td>1fnJ7k0bllNfL1kVdNVW1A</td>\n",
       "      <td>23</td>\n",
       "      <td>24</td>\n",
       "      <td>-1</td>\n",
       "    </tr>\n",
       "    <tr>\n",
       "      <th>11</th>\n",
       "      <td>2Xoteh7uEpea4TohMxjtaq</td>\n",
       "      <td>15</td>\n",
       "      <td>10</td>\n",
       "      <td>5</td>\n",
       "    </tr>\n",
       "    <tr>\n",
       "      <th>24</th>\n",
       "      <td>6kZ42qRrzov54LcAk4onW9</td>\n",
       "      <td>30</td>\n",
       "      <td>34</td>\n",
       "      <td>-4</td>\n",
       "    </tr>\n",
       "  </tbody>\n",
       "</table>\n",
       "</div>"
      ],
      "text/plain": [
       "                  album_id  manual_count  original_count  difference\n",
       "6   1fnJ7k0bllNfL1kVdNVW1A            23              24          -1\n",
       "11  2Xoteh7uEpea4TohMxjtaq            15              10           5\n",
       "24  6kZ42qRrzov54LcAk4onW9            30              34          -4"
      ]
     },
     "execution_count": 57,
     "metadata": {},
     "output_type": "execute_result"
    }
   ],
   "source": [
    "manual_total_tracks = (\n",
    "    df_albums[df_albums['album_id'] != '5eyZZoQEFQWRHkV2xgAeBw'] # Elimino el album que tiene el error\n",
    "    [['album_id', 'track_id']]\n",
    "    .groupby('album_id')\n",
    "    .agg(\n",
    "        manual_count=('track_id', 'size')\n",
    "    )\n",
    ")\n",
    "\n",
    "manual_total_tracks.reset_index(inplace=True)\n",
    "\n",
    "combined_df = manual_total_tracks.merge(\n",
    "    original_total_tracks[['album_id', 'max']],\n",
    "    on='album_id',\n",
    "    how='left'\n",
    ")\n",
    "combined_df.rename(columns={'max': 'original_count'}, inplace=True)\n",
    "\n",
    "combined_df['difference'] = combined_df['manual_count'] - combined_df['original_count']\n",
    "print('Validación pasada') if combined_df['difference'].max() == 0 else print('Validación fallida')\n",
    "combined_df[combined_df['difference'] != 0]"
   ]
  },
  {
   "cell_type": "markdown",
   "metadata": {},
   "source": [
    "En este caso encontramos que hay 4 albumes que tienen un conteo diferente al que se está mostrando."
   ]
  },
  {
   "cell_type": "code",
   "execution_count": 58,
   "metadata": {},
   "outputs": [
    {
     "name": "stdout",
     "output_type": "stream",
     "text": [
      "La precisión de albumes con un conteo acertado es de 88.00%\n"
     ]
    }
   ],
   "source": [
    "precision_total_tracks = 1 - (combined_df[combined_df['difference'] != 0]['album_id'].count() \\\n",
    "/ combined_df['album_id'].count())\n",
    "\n",
    "print(f'La precisión de albumes con un conteo acertado es de {precision_total_tracks*100:.2f}%')"
   ]
  }
 ],
 "metadata": {
  "kernelspec": {
   "display_name": "venv",
   "language": "python",
   "name": "python3"
  },
  "language_info": {
   "codemirror_mode": {
    "name": "ipython",
    "version": 3
   },
   "file_extension": ".py",
   "mimetype": "text/x-python",
   "name": "python",
   "nbconvert_exporter": "python",
   "pygments_lexer": "ipython3",
   "version": "3.11.5"
  }
 },
 "nbformat": 4,
 "nbformat_minor": 2
}
